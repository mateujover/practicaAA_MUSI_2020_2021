{
 "cells": [
  {
   "cell_type": "markdown",
   "metadata": {},
   "source": [
    "# Práctica final\n",
    "## Máster Universitario en Sistemas Inteligentes - Universidad de las Islas Baleares\n",
    "\n",
    "### Alumno: Jover Mulet, Mateu\n",
    "### Asignatura: Aprendizaje automático\n",
    "### Año: 2020 - 2021"
   ]
  },
  {
   "cell_type": "markdown",
   "metadata": {},
   "source": [
    "# 1. Presentación del problema."
   ]
  },
  {
   "cell_type": "markdown",
   "metadata": {},
   "source": [
    "El objetivo de este notebook es intentar una predicción de precios para alojamientos ofertados en la plataforma AirBnB. El conjunto de datos empleado proviene de la propia plataforma con la información de diversas categorías que ellos registran. Muchas de estas características vienen fijadas por el ofertante o _host_ con lo que algunas pueden venir algo distorsionadas o tener un formato no uniforme. Por otro lado, hay que saber que la plataforma ofrece todo tipo de alquileres, no solo turísticos y entre los turísticos los hay de precios muy variados dadas las carácteríticas de lo ofrecido.\n",
    "\n",
    "El problema pretende limpiar y uniformizar los datos de los hospedajes que facilita el conjunto de datos. Los datos mejorados se emplearán para crear unos modelos de regresión lineal, (ya que la variable a predecir es numérica y contínua a priori). Como es habitual en el _workflow_ del _Machine Learning_ se empleará una fracción de los datos como validación del modelo creado.\n",
    "\n",
    "Repositorio GitHub con lo necesario para ejecutar la práctica:  [mateujover/practicaAA_UIB_MUSI_2021](https://github.com/mateujover/practicaAA_UIB_MUSI_2021)"
   ]
  },
  {
   "cell_type": "markdown",
   "metadata": {},
   "source": [
    "## 1.1. Preparación del entorno y primera observación de los datos:"
   ]
  },
  {
   "cell_type": "markdown",
   "metadata": {},
   "source": [
    "### Librerías y carga de datos:"
   ]
  },
  {
   "cell_type": "code",
   "execution_count": 1,
   "metadata": {},
   "outputs": [],
   "source": [
    "import warnings\n",
    "warnings.filterwarnings('ignore')"
   ]
  },
  {
   "cell_type": "code",
   "execution_count": 2,
   "metadata": {},
   "outputs": [],
   "source": [
    "# Librerías:\n",
    "import numpy as np\n",
    "import matplotlib.pyplot as plt\n",
    "import seaborn as sns\n",
    "import pandas as pd"
   ]
  },
  {
   "cell_type": "code",
   "execution_count": 3,
   "metadata": {},
   "outputs": [
    {
     "data": {
      "text/html": [
       "<div>\n",
       "<style scoped>\n",
       "    .dataframe tbody tr th:only-of-type {\n",
       "        vertical-align: middle;\n",
       "    }\n",
       "\n",
       "    .dataframe tbody tr th {\n",
       "        vertical-align: top;\n",
       "    }\n",
       "\n",
       "    .dataframe thead th {\n",
       "        text-align: right;\n",
       "    }\n",
       "</style>\n",
       "<table border=\"1\" class=\"dataframe\">\n",
       "  <thead>\n",
       "    <tr style=\"text-align: right;\">\n",
       "      <th></th>\n",
       "      <th>id</th>\n",
       "      <th>listing_url</th>\n",
       "      <th>scrape_id</th>\n",
       "      <th>last_scraped</th>\n",
       "      <th>name</th>\n",
       "      <th>description</th>\n",
       "      <th>neighborhood_overview</th>\n",
       "      <th>picture_url</th>\n",
       "      <th>host_id</th>\n",
       "      <th>host_url</th>\n",
       "      <th>...</th>\n",
       "      <th>review_scores_communication</th>\n",
       "      <th>review_scores_location</th>\n",
       "      <th>review_scores_value</th>\n",
       "      <th>license</th>\n",
       "      <th>instant_bookable</th>\n",
       "      <th>calculated_host_listings_count</th>\n",
       "      <th>calculated_host_listings_count_entire_homes</th>\n",
       "      <th>calculated_host_listings_count_private_rooms</th>\n",
       "      <th>calculated_host_listings_count_shared_rooms</th>\n",
       "      <th>reviews_per_month</th>\n",
       "    </tr>\n",
       "  </thead>\n",
       "  <tbody>\n",
       "    <tr>\n",
       "      <th>0</th>\n",
       "      <td>11547</td>\n",
       "      <td>https://www.airbnb.com/rooms/11547</td>\n",
       "      <td>20200919153121</td>\n",
       "      <td>2020-09-21</td>\n",
       "      <td>My home at the beach</td>\n",
       "      <td>Sun, joy, relax, quality, beach &amp; peace.&lt;br /&gt;...</td>\n",
       "      <td>NaN</td>\n",
       "      <td>https://a0.muscache.com/pictures/494126/8c151b...</td>\n",
       "      <td>42942</td>\n",
       "      <td>https://www.airbnb.com/users/show/42942</td>\n",
       "      <td>...</td>\n",
       "      <td>10.0</td>\n",
       "      <td>10.0</td>\n",
       "      <td>10.0</td>\n",
       "      <td>NaN</td>\n",
       "      <td>f</td>\n",
       "      <td>1</td>\n",
       "      <td>1</td>\n",
       "      <td>0</td>\n",
       "      <td>0</td>\n",
       "      <td>0.93</td>\n",
       "    </tr>\n",
       "    <tr>\n",
       "      <th>1</th>\n",
       "      <td>100831</td>\n",
       "      <td>https://www.airbnb.com/rooms/100831</td>\n",
       "      <td>20200919153121</td>\n",
       "      <td>2020-09-21</td>\n",
       "      <td>HOUSE IN MALLORCA - WiFi(ET-3045)</td>\n",
       "      <td>&lt;b&gt;The space&lt;/b&gt;&lt;br /&gt;House situated in a quie...</td>\n",
       "      <td>NaN</td>\n",
       "      <td>https://a0.muscache.com/pictures/675527/72b329...</td>\n",
       "      <td>529151</td>\n",
       "      <td>https://www.airbnb.com/users/show/529151</td>\n",
       "      <td>...</td>\n",
       "      <td>10.0</td>\n",
       "      <td>10.0</td>\n",
       "      <td>10.0</td>\n",
       "      <td>ETV-3045</td>\n",
       "      <td>t</td>\n",
       "      <td>1</td>\n",
       "      <td>1</td>\n",
       "      <td>0</td>\n",
       "      <td>0</td>\n",
       "      <td>1.47</td>\n",
       "    </tr>\n",
       "    <tr>\n",
       "      <th>2</th>\n",
       "      <td>105891</td>\n",
       "      <td>https://www.airbnb.com/rooms/105891</td>\n",
       "      <td>20200919153121</td>\n",
       "      <td>2020-09-20</td>\n",
       "      <td>VILLAGE HOUSE WITH POOL: IDEAL FOR FAMILIES</td>\n",
       "      <td>The house is a street on the outskirts of the ...</td>\n",
       "      <td>The village's population does not reach two th...</td>\n",
       "      <td>https://a0.muscache.com/pictures/1036816/f36ce...</td>\n",
       "      <td>549192</td>\n",
       "      <td>https://www.airbnb.com/users/show/549192</td>\n",
       "      <td>...</td>\n",
       "      <td>10.0</td>\n",
       "      <td>9.0</td>\n",
       "      <td>10.0</td>\n",
       "      <td>ETV/6127</td>\n",
       "      <td>t</td>\n",
       "      <td>2</td>\n",
       "      <td>2</td>\n",
       "      <td>0</td>\n",
       "      <td>0</td>\n",
       "      <td>0.14</td>\n",
       "    </tr>\n",
       "    <tr>\n",
       "      <th>3</th>\n",
       "      <td>106833</td>\n",
       "      <td>https://www.airbnb.com/rooms/106833</td>\n",
       "      <td>20200919153121</td>\n",
       "      <td>2020-09-20</td>\n",
       "      <td>Villa with a big pool in Mallorca</td>\n",
       "      <td>&lt;b&gt;The space&lt;/b&gt;&lt;br /&gt;This is a restored old b...</td>\n",
       "      <td>NaN</td>\n",
       "      <td>https://a0.muscache.com/pictures/710218/98134c...</td>\n",
       "      <td>551974</td>\n",
       "      <td>https://www.airbnb.com/users/show/551974</td>\n",
       "      <td>...</td>\n",
       "      <td>10.0</td>\n",
       "      <td>9.0</td>\n",
       "      <td>9.0</td>\n",
       "      <td>ET/1961</td>\n",
       "      <td>f</td>\n",
       "      <td>1</td>\n",
       "      <td>1</td>\n",
       "      <td>0</td>\n",
       "      <td>0</td>\n",
       "      <td>0.09</td>\n",
       "    </tr>\n",
       "    <tr>\n",
       "      <th>4</th>\n",
       "      <td>130669</td>\n",
       "      <td>https://www.airbnb.com/rooms/130669</td>\n",
       "      <td>20200919153121</td>\n",
       "      <td>2020-09-20</td>\n",
       "      <td>Room great apartment</td>\n",
       "      <td>Located in a residential neighbourhood and 10m...</td>\n",
       "      <td>Located in the center of the city, within minu...</td>\n",
       "      <td>https://a0.muscache.com/pictures/866653/58dc48...</td>\n",
       "      <td>643065</td>\n",
       "      <td>https://www.airbnb.com/users/show/643065</td>\n",
       "      <td>...</td>\n",
       "      <td>NaN</td>\n",
       "      <td>NaN</td>\n",
       "      <td>NaN</td>\n",
       "      <td>NaN</td>\n",
       "      <td>t</td>\n",
       "      <td>2</td>\n",
       "      <td>0</td>\n",
       "      <td>2</td>\n",
       "      <td>0</td>\n",
       "      <td>NaN</td>\n",
       "    </tr>\n",
       "  </tbody>\n",
       "</table>\n",
       "<p>5 rows × 74 columns</p>\n",
       "</div>"
      ],
      "text/plain": [
       "       id                          listing_url       scrape_id last_scraped  \\\n",
       "0   11547   https://www.airbnb.com/rooms/11547  20200919153121   2020-09-21   \n",
       "1  100831  https://www.airbnb.com/rooms/100831  20200919153121   2020-09-21   \n",
       "2  105891  https://www.airbnb.com/rooms/105891  20200919153121   2020-09-20   \n",
       "3  106833  https://www.airbnb.com/rooms/106833  20200919153121   2020-09-20   \n",
       "4  130669  https://www.airbnb.com/rooms/130669  20200919153121   2020-09-20   \n",
       "\n",
       "                                          name  \\\n",
       "0                         My home at the beach   \n",
       "1            HOUSE IN MALLORCA - WiFi(ET-3045)   \n",
       "2  VILLAGE HOUSE WITH POOL: IDEAL FOR FAMILIES   \n",
       "3            Villa with a big pool in Mallorca   \n",
       "4                         Room great apartment   \n",
       "\n",
       "                                         description  \\\n",
       "0  Sun, joy, relax, quality, beach & peace.<br />...   \n",
       "1  <b>The space</b><br />House situated in a quie...   \n",
       "2  The house is a street on the outskirts of the ...   \n",
       "3  <b>The space</b><br />This is a restored old b...   \n",
       "4  Located in a residential neighbourhood and 10m...   \n",
       "\n",
       "                               neighborhood_overview  \\\n",
       "0                                                NaN   \n",
       "1                                                NaN   \n",
       "2  The village's population does not reach two th...   \n",
       "3                                                NaN   \n",
       "4  Located in the center of the city, within minu...   \n",
       "\n",
       "                                         picture_url  host_id  \\\n",
       "0  https://a0.muscache.com/pictures/494126/8c151b...    42942   \n",
       "1  https://a0.muscache.com/pictures/675527/72b329...   529151   \n",
       "2  https://a0.muscache.com/pictures/1036816/f36ce...   549192   \n",
       "3  https://a0.muscache.com/pictures/710218/98134c...   551974   \n",
       "4  https://a0.muscache.com/pictures/866653/58dc48...   643065   \n",
       "\n",
       "                                   host_url  ... review_scores_communication  \\\n",
       "0   https://www.airbnb.com/users/show/42942  ...                        10.0   \n",
       "1  https://www.airbnb.com/users/show/529151  ...                        10.0   \n",
       "2  https://www.airbnb.com/users/show/549192  ...                        10.0   \n",
       "3  https://www.airbnb.com/users/show/551974  ...                        10.0   \n",
       "4  https://www.airbnb.com/users/show/643065  ...                         NaN   \n",
       "\n",
       "  review_scores_location review_scores_value   license instant_bookable  \\\n",
       "0                   10.0                10.0       NaN                f   \n",
       "1                   10.0                10.0  ETV-3045                t   \n",
       "2                    9.0                10.0  ETV/6127                t   \n",
       "3                    9.0                 9.0   ET/1961                f   \n",
       "4                    NaN                 NaN       NaN                t   \n",
       "\n",
       "  calculated_host_listings_count calculated_host_listings_count_entire_homes  \\\n",
       "0                              1                                           1   \n",
       "1                              1                                           1   \n",
       "2                              2                                           2   \n",
       "3                              1                                           1   \n",
       "4                              2                                           0   \n",
       "\n",
       "  calculated_host_listings_count_private_rooms  \\\n",
       "0                                            0   \n",
       "1                                            0   \n",
       "2                                            0   \n",
       "3                                            0   \n",
       "4                                            2   \n",
       "\n",
       "  calculated_host_listings_count_shared_rooms reviews_per_month  \n",
       "0                                           0              0.93  \n",
       "1                                           0              1.47  \n",
       "2                                           0              0.14  \n",
       "3                                           0              0.09  \n",
       "4                                           0               NaN  \n",
       "\n",
       "[5 rows x 74 columns]"
      ]
     },
     "execution_count": 3,
     "metadata": {},
     "output_type": "execute_result"
    }
   ],
   "source": [
    "# Datos:\n",
    "file_path = \"data/airbnb.csv\"\n",
    "df = pd.read_csv(file_path)\n",
    "df.head()"
   ]
  },
  {
   "cell_type": "code",
   "execution_count": 4,
   "metadata": {},
   "outputs": [
    {
     "data": {
      "text/plain": [
       "Index(['id', 'listing_url', 'scrape_id', 'last_scraped', 'name', 'description',\n",
       "       'neighborhood_overview', 'picture_url', 'host_id', 'host_url',\n",
       "       'host_name', 'host_since', 'host_location', 'host_about',\n",
       "       'host_response_time', 'host_response_rate', 'host_acceptance_rate',\n",
       "       'host_is_superhost', 'host_thumbnail_url', 'host_picture_url',\n",
       "       'host_neighbourhood', 'host_listings_count',\n",
       "       'host_total_listings_count', 'host_verifications',\n",
       "       'host_has_profile_pic', 'host_identity_verified', 'neighbourhood',\n",
       "       'neighbourhood_cleansed', 'neighbourhood_group_cleansed', 'latitude',\n",
       "       'longitude', 'property_type', 'room_type', 'accommodates', 'bathrooms',\n",
       "       'bathrooms_text', 'bedrooms', 'beds', 'amenities', 'price',\n",
       "       'minimum_nights', 'maximum_nights', 'minimum_minimum_nights',\n",
       "       'maximum_minimum_nights', 'minimum_maximum_nights',\n",
       "       'maximum_maximum_nights', 'minimum_nights_avg_ntm',\n",
       "       'maximum_nights_avg_ntm', 'calendar_updated', 'has_availability',\n",
       "       'availability_30', 'availability_60', 'availability_90',\n",
       "       'availability_365', 'calendar_last_scraped', 'number_of_reviews',\n",
       "       'number_of_reviews_ltm', 'number_of_reviews_l30d', 'first_review',\n",
       "       'last_review', 'review_scores_rating', 'review_scores_accuracy',\n",
       "       'review_scores_cleanliness', 'review_scores_checkin',\n",
       "       'review_scores_communication', 'review_scores_location',\n",
       "       'review_scores_value', 'license', 'instant_bookable',\n",
       "       'calculated_host_listings_count',\n",
       "       'calculated_host_listings_count_entire_homes',\n",
       "       'calculated_host_listings_count_private_rooms',\n",
       "       'calculated_host_listings_count_shared_rooms', 'reviews_per_month'],\n",
       "      dtype='object')"
      ]
     },
     "execution_count": 4,
     "metadata": {},
     "output_type": "execute_result"
    }
   ],
   "source": [
    "df.columns"
   ]
  },
  {
   "cell_type": "markdown",
   "metadata": {},
   "source": [
    "## ¿Qué _features_ escogemos inicialmente?\n",
    "Aquellas que aporten información básica del hospedaje y su localización. Se incluyen las _features_ que especifican qué nivel de comodidad y aquello que incluye el contrato y además algunas relativas a la flexibilidad de la reserva:\n",
    "1. Ubicación del alojamiento (latitud y longitud).\n",
    "1. Tipo de alojamiento y tipo de habitación.\n",
    "1. Número de huéspedes.\n",
    "1. Habitaciones y camas.\n",
    "1. Lista de comodidades por hospedaje (_amenities_)\n",
    "1. Restricciones de reserva, máximo-mínimo de noches.\n",
    "1. Disponibilidades para reservas de mes, dos meses, tres meses y anuales.\n",
    "1. Precio (valor a predecir)\n",
    "\n",
    "Las demás características son relativas datos sobre las interacciones o sobre el perfil del anunciante se excluyen ya que la mayoría no tienen un formato no apropiado ni información que se pueda considerar relevante."
   ]
  },
  {
   "cell_type": "code",
   "execution_count": 5,
   "metadata": {},
   "outputs": [
    {
     "data": {
      "text/plain": [
       "Index(['latitude', 'longitude', 'property_type', 'room_type', 'accommodates',\n",
       "       'bathrooms', 'bathrooms_text', 'bedrooms', 'beds', 'amenities', 'price',\n",
       "       'minimum_nights', 'maximum_nights', 'minimum_minimum_nights',\n",
       "       'maximum_minimum_nights', 'minimum_maximum_nights',\n",
       "       'maximum_maximum_nights'],\n",
       "      dtype='object')"
      ]
     },
     "execution_count": 5,
     "metadata": {},
     "output_type": "execute_result"
    }
   ],
   "source": [
    "basic_features = df.columns[29:46]\n",
    "basic_features"
   ]
  },
  {
   "cell_type": "code",
   "execution_count": 6,
   "metadata": {},
   "outputs": [],
   "source": [
    "basic_df = df[basic_features]\n",
    "# basic_df[['latitude', 'longitude']].plot(kind='scatter', x='latitude', y='longitude')"
   ]
  },
  {
   "cell_type": "markdown",
   "metadata": {},
   "source": [
    "# 2. Preparación del _dataframe_.\n",
    "Observamos aquí las características del conjunto de datos para ver qué columnas necesitarán normalizarse, qué variables no son numéricas y debe adaptarse su tratamiento. Además deberán tratarse los valores NaN:"
   ]
  },
  {
   "cell_type": "code",
   "execution_count": 7,
   "metadata": {},
   "outputs": [
    {
     "data": {
      "text/plain": [
       "Index(['latitude', 'longitude', 'property_type', 'room_type', 'accommodates',\n",
       "       'bathrooms', 'bathrooms_text', 'bedrooms', 'beds', 'amenities', 'price',\n",
       "       'minimum_nights', 'maximum_nights', 'minimum_minimum_nights',\n",
       "       'maximum_minimum_nights', 'minimum_maximum_nights',\n",
       "       'maximum_maximum_nights'],\n",
       "      dtype='object')"
      ]
     },
     "execution_count": 7,
     "metadata": {},
     "output_type": "execute_result"
    }
   ],
   "source": [
    "basic_features"
   ]
  },
  {
   "cell_type": "markdown",
   "metadata": {},
   "source": [
    "## 2.1. Vista general del set de datos:"
   ]
  },
  {
   "cell_type": "markdown",
   "metadata": {},
   "source": [
    "### Variables numéricas"
   ]
  },
  {
   "cell_type": "code",
   "execution_count": 8,
   "metadata": {},
   "outputs": [
    {
     "data": {
      "text/html": [
       "<div>\n",
       "<style scoped>\n",
       "    .dataframe tbody tr th:only-of-type {\n",
       "        vertical-align: middle;\n",
       "    }\n",
       "\n",
       "    .dataframe tbody tr th {\n",
       "        vertical-align: top;\n",
       "    }\n",
       "\n",
       "    .dataframe thead th {\n",
       "        text-align: right;\n",
       "    }\n",
       "</style>\n",
       "<table border=\"1\" class=\"dataframe\">\n",
       "  <thead>\n",
       "    <tr style=\"text-align: right;\">\n",
       "      <th></th>\n",
       "      <th>latitude</th>\n",
       "      <th>longitude</th>\n",
       "      <th>accommodates</th>\n",
       "      <th>bathrooms</th>\n",
       "      <th>bedrooms</th>\n",
       "      <th>beds</th>\n",
       "      <th>minimum_nights</th>\n",
       "      <th>maximum_nights</th>\n",
       "      <th>minimum_minimum_nights</th>\n",
       "      <th>maximum_minimum_nights</th>\n",
       "      <th>minimum_maximum_nights</th>\n",
       "      <th>maximum_maximum_nights</th>\n",
       "    </tr>\n",
       "  </thead>\n",
       "  <tbody>\n",
       "    <tr>\n",
       "      <th>count</th>\n",
       "      <td>17608.000000</td>\n",
       "      <td>17608.000000</td>\n",
       "      <td>17608.000000</td>\n",
       "      <td>0.0</td>\n",
       "      <td>17333.000000</td>\n",
       "      <td>17511.000000</td>\n",
       "      <td>17608.000000</td>\n",
       "      <td>17608.000000</td>\n",
       "      <td>17608.000000</td>\n",
       "      <td>17608.000000</td>\n",
       "      <td>17608.000000</td>\n",
       "      <td>17608.000000</td>\n",
       "    </tr>\n",
       "    <tr>\n",
       "      <th>mean</th>\n",
       "      <td>39.657597</td>\n",
       "      <td>2.994115</td>\n",
       "      <td>5.857962</td>\n",
       "      <td>NaN</td>\n",
       "      <td>2.952980</td>\n",
       "      <td>4.357147</td>\n",
       "      <td>4.340981</td>\n",
       "      <td>864.365459</td>\n",
       "      <td>4.531577</td>\n",
       "      <td>6.089334</td>\n",
       "      <td>840.952067</td>\n",
       "      <td>925.781520</td>\n",
       "    </tr>\n",
       "    <tr>\n",
       "      <th>std</th>\n",
       "      <td>0.165577</td>\n",
       "      <td>0.246129</td>\n",
       "      <td>2.727737</td>\n",
       "      <td>NaN</td>\n",
       "      <td>1.520433</td>\n",
       "      <td>2.561838</td>\n",
       "      <td>12.601256</td>\n",
       "      <td>451.521402</td>\n",
       "      <td>13.305965</td>\n",
       "      <td>15.672448</td>\n",
       "      <td>471.007202</td>\n",
       "      <td>409.085046</td>\n",
       "    </tr>\n",
       "    <tr>\n",
       "      <th>min</th>\n",
       "      <td>39.301970</td>\n",
       "      <td>2.346500</td>\n",
       "      <td>0.000000</td>\n",
       "      <td>NaN</td>\n",
       "      <td>1.000000</td>\n",
       "      <td>0.000000</td>\n",
       "      <td>1.000000</td>\n",
       "      <td>1.000000</td>\n",
       "      <td>1.000000</td>\n",
       "      <td>1.000000</td>\n",
       "      <td>1.000000</td>\n",
       "      <td>1.000000</td>\n",
       "    </tr>\n",
       "    <tr>\n",
       "      <th>25%</th>\n",
       "      <td>39.543433</td>\n",
       "      <td>2.796892</td>\n",
       "      <td>4.000000</td>\n",
       "      <td>NaN</td>\n",
       "      <td>2.000000</td>\n",
       "      <td>3.000000</td>\n",
       "      <td>1.000000</td>\n",
       "      <td>700.000000</td>\n",
       "      <td>2.000000</td>\n",
       "      <td>3.000000</td>\n",
       "      <td>365.000000</td>\n",
       "      <td>1125.000000</td>\n",
       "    </tr>\n",
       "    <tr>\n",
       "      <th>50%</th>\n",
       "      <td>39.670285</td>\n",
       "      <td>3.047310</td>\n",
       "      <td>6.000000</td>\n",
       "      <td>NaN</td>\n",
       "      <td>3.000000</td>\n",
       "      <td>4.000000</td>\n",
       "      <td>4.000000</td>\n",
       "      <td>1125.000000</td>\n",
       "      <td>4.000000</td>\n",
       "      <td>5.000000</td>\n",
       "      <td>1125.000000</td>\n",
       "      <td>1125.000000</td>\n",
       "    </tr>\n",
       "    <tr>\n",
       "      <th>75%</th>\n",
       "      <td>39.797413</td>\n",
       "      <td>3.145215</td>\n",
       "      <td>8.000000</td>\n",
       "      <td>NaN</td>\n",
       "      <td>4.000000</td>\n",
       "      <td>6.000000</td>\n",
       "      <td>6.000000</td>\n",
       "      <td>1125.000000</td>\n",
       "      <td>5.000000</td>\n",
       "      <td>7.000000</td>\n",
       "      <td>1125.000000</td>\n",
       "      <td>1125.000000</td>\n",
       "    </tr>\n",
       "    <tr>\n",
       "      <th>max</th>\n",
       "      <td>39.930650</td>\n",
       "      <td>3.475520</td>\n",
       "      <td>16.000000</td>\n",
       "      <td>NaN</td>\n",
       "      <td>40.000000</td>\n",
       "      <td>50.000000</td>\n",
       "      <td>1124.000000</td>\n",
       "      <td>3500.000000</td>\n",
       "      <td>1124.000000</td>\n",
       "      <td>1124.000000</td>\n",
       "      <td>3500.000000</td>\n",
       "      <td>3500.000000</td>\n",
       "    </tr>\n",
       "  </tbody>\n",
       "</table>\n",
       "</div>"
      ],
      "text/plain": [
       "           latitude     longitude  accommodates  bathrooms      bedrooms  \\\n",
       "count  17608.000000  17608.000000  17608.000000        0.0  17333.000000   \n",
       "mean      39.657597      2.994115      5.857962        NaN      2.952980   \n",
       "std        0.165577      0.246129      2.727737        NaN      1.520433   \n",
       "min       39.301970      2.346500      0.000000        NaN      1.000000   \n",
       "25%       39.543433      2.796892      4.000000        NaN      2.000000   \n",
       "50%       39.670285      3.047310      6.000000        NaN      3.000000   \n",
       "75%       39.797413      3.145215      8.000000        NaN      4.000000   \n",
       "max       39.930650      3.475520     16.000000        NaN     40.000000   \n",
       "\n",
       "               beds  minimum_nights  maximum_nights  minimum_minimum_nights  \\\n",
       "count  17511.000000    17608.000000    17608.000000            17608.000000   \n",
       "mean       4.357147        4.340981      864.365459                4.531577   \n",
       "std        2.561838       12.601256      451.521402               13.305965   \n",
       "min        0.000000        1.000000        1.000000                1.000000   \n",
       "25%        3.000000        1.000000      700.000000                2.000000   \n",
       "50%        4.000000        4.000000     1125.000000                4.000000   \n",
       "75%        6.000000        6.000000     1125.000000                5.000000   \n",
       "max       50.000000     1124.000000     3500.000000             1124.000000   \n",
       "\n",
       "       maximum_minimum_nights  minimum_maximum_nights  maximum_maximum_nights  \n",
       "count            17608.000000            17608.000000            17608.000000  \n",
       "mean                 6.089334              840.952067              925.781520  \n",
       "std                 15.672448              471.007202              409.085046  \n",
       "min                  1.000000                1.000000                1.000000  \n",
       "25%                  3.000000              365.000000             1125.000000  \n",
       "50%                  5.000000             1125.000000             1125.000000  \n",
       "75%                  7.000000             1125.000000             1125.000000  \n",
       "max               1124.000000             3500.000000             3500.000000  "
      ]
     },
     "execution_count": 8,
     "metadata": {},
     "output_type": "execute_result"
    }
   ],
   "source": [
    "numerical_features = basic_df.describe().columns\n",
    "basic_df.describe()"
   ]
  },
  {
   "cell_type": "markdown",
   "metadata": {},
   "source": [
    "### Variables categóricas"
   ]
  },
  {
   "cell_type": "code",
   "execution_count": 9,
   "metadata": {},
   "outputs": [
    {
     "data": {
      "text/html": [
       "<div>\n",
       "<style scoped>\n",
       "    .dataframe tbody tr th:only-of-type {\n",
       "        vertical-align: middle;\n",
       "    }\n",
       "\n",
       "    .dataframe tbody tr th {\n",
       "        vertical-align: top;\n",
       "    }\n",
       "\n",
       "    .dataframe thead th {\n",
       "        text-align: right;\n",
       "    }\n",
       "</style>\n",
       "<table border=\"1\" class=\"dataframe\">\n",
       "  <thead>\n",
       "    <tr style=\"text-align: right;\">\n",
       "      <th></th>\n",
       "      <th>property_type</th>\n",
       "      <th>price</th>\n",
       "      <th>amenities</th>\n",
       "      <th>room_type</th>\n",
       "      <th>bathrooms_text</th>\n",
       "    </tr>\n",
       "  </thead>\n",
       "  <tbody>\n",
       "    <tr>\n",
       "      <th>0</th>\n",
       "      <td>Entire apartment</td>\n",
       "      <td>$89.00</td>\n",
       "      <td>[\"Oven\", \"Wifi\", \"Coffee maker\", \"Dishes and s...</td>\n",
       "      <td>Entire home/apt</td>\n",
       "      <td>1 bath</td>\n",
       "    </tr>\n",
       "    <tr>\n",
       "      <th>1</th>\n",
       "      <td>Entire house</td>\n",
       "      <td>$175.00</td>\n",
       "      <td>[\"First aid kit\", \"Hair dryer\", \"Iron\", \"Washe...</td>\n",
       "      <td>Entire home/apt</td>\n",
       "      <td>3 baths</td>\n",
       "    </tr>\n",
       "    <tr>\n",
       "      <th>2</th>\n",
       "      <td>Entire townhouse</td>\n",
       "      <td>$140.00</td>\n",
       "      <td>[\"Smoke alarm\", \"Oven\", \"Wifi\", \"Garden or bac...</td>\n",
       "      <td>Entire home/apt</td>\n",
       "      <td>2 baths</td>\n",
       "    </tr>\n",
       "    <tr>\n",
       "      <th>3</th>\n",
       "      <td>Entire villa</td>\n",
       "      <td>$200.00</td>\n",
       "      <td>[\"Pool\", \"Free parking on premises\", \"Air cond...</td>\n",
       "      <td>Entire home/apt</td>\n",
       "      <td>1 bath</td>\n",
       "    </tr>\n",
       "    <tr>\n",
       "      <th>4</th>\n",
       "      <td>Private room in apartment</td>\n",
       "      <td>$110.00</td>\n",
       "      <td>[\"Pool\", \"Washer\", \"Air conditioning\", \"Kitche...</td>\n",
       "      <td>Private room</td>\n",
       "      <td>1 bath</td>\n",
       "    </tr>\n",
       "  </tbody>\n",
       "</table>\n",
       "</div>"
      ],
      "text/plain": [
       "               property_type    price  \\\n",
       "0           Entire apartment   $89.00   \n",
       "1               Entire house  $175.00   \n",
       "2           Entire townhouse  $140.00   \n",
       "3               Entire villa  $200.00   \n",
       "4  Private room in apartment  $110.00   \n",
       "\n",
       "                                           amenities        room_type  \\\n",
       "0  [\"Oven\", \"Wifi\", \"Coffee maker\", \"Dishes and s...  Entire home/apt   \n",
       "1  [\"First aid kit\", \"Hair dryer\", \"Iron\", \"Washe...  Entire home/apt   \n",
       "2  [\"Smoke alarm\", \"Oven\", \"Wifi\", \"Garden or bac...  Entire home/apt   \n",
       "3  [\"Pool\", \"Free parking on premises\", \"Air cond...  Entire home/apt   \n",
       "4  [\"Pool\", \"Washer\", \"Air conditioning\", \"Kitche...     Private room   \n",
       "\n",
       "  bathrooms_text  \n",
       "0         1 bath  \n",
       "1        3 baths  \n",
       "2        2 baths  \n",
       "3         1 bath  \n",
       "4         1 bath  "
      ]
     },
     "execution_count": 9,
     "metadata": {},
     "output_type": "execute_result"
    }
   ],
   "source": [
    "no_numerical_features = list( set(numerical_features) ^ set(basic_features) )\n",
    "basic_df[no_numerical_features].head()"
   ]
  },
  {
   "cell_type": "markdown",
   "metadata": {},
   "source": [
    "### Resumen de _features_"
   ]
  },
  {
   "cell_type": "markdown",
   "metadata": {},
   "source": [
    "1. Variables categóricas (o que aparecen como tal)\n",
    "    \n",
    " - Precio: convertirlo a valor numérico.\n",
    " - Tipo de habitación: cuatro valores. Se usará un One Hot Encoding, son pocos valores para la variable. Se combinará con el _property\\_type_\n",
    " - Tipo de propiedad: hasta 74 valores diferentes. Se valorarán la reducción de las categorías de forma manual para reducir el número de ellas y proceder con una codificación diferente y para combinarse con el tipo de habitación.\n",
    " - _Bathrooms text_: transformar a valores numéricos. Deben interpretarse algunos strings para pasarse a un valor numérico.\n",
    " - Comodidades (_amenities_): conjuntos de items para cada observación, de muy alta cardinalidad y sujetos a lo que los _host_ incluyan en la categoría _amenities_.\n",
    " \n",
    "2. Variables numéricas:\n",
    " - Latitud-longitud: situación en el mapa.\n",
    " - _Accommodates_: número de personas máxima para el hospedaje.\n",
    " - Variables referentes a noches mínimas/máximas reservables: se redcirán tomándo el mínimo de los dos valores mínimos y el máximo de los dos valores máximos, por si hubiera disparidad. (Reaparece el problema de la información ofrecida por cada host de forma diferente y que puede tener incoherencias).\n",
    " - _Bathrooms_: número de baños en el hospedaje.\n",
    " - _Bedrooms_ y _beds_: habitaciones y camas en el hospedaje."
   ]
  },
  {
   "cell_type": "markdown",
   "metadata": {},
   "source": [
    "## 2.2. Tratamiento de los datos de formato no adecuado."
   ]
  },
  {
   "cell_type": "markdown",
   "metadata": {},
   "source": [
    "**1. Columna precio: información como string y no en formato numérico**"
   ]
  },
  {
   "cell_type": "code",
   "execution_count": 10,
   "metadata": {},
   "outputs": [],
   "source": [
    "# Conversión precio a float\n",
    "def obtain_price(column):\n",
    "    for i in range(0, len(column)):\n",
    "        price = column[i]\n",
    "        price = price[1:]\n",
    "        price = price.replace(',', '')\n",
    "        column[i] = float(price)\n",
    "        \n",
    "obtain_price(basic_df['price'])"
   ]
  },
  {
   "cell_type": "markdown",
   "metadata": {},
   "source": [
    "**2. Variable baños en dos columnas y de formanto no adecuado**"
   ]
  },
  {
   "cell_type": "code",
   "execution_count": 11,
   "metadata": {},
   "outputs": [
    {
     "data": {
      "text/plain": [
       "array(['1 bath', '3 baths', '2 baths', '1 private bath', '0 baths',\n",
       "       '1.5 baths', '2 shared baths', '7 baths', '4.5 baths', '2.5 baths',\n",
       "       '4 baths', '5 baths', 'Shared half-bath', '1.5 shared baths',\n",
       "       '3.5 baths', '1 shared bath', '6 baths', '8 baths', nan,\n",
       "       '6.5 baths', '9.5 baths', '5.5 baths', '7.5 baths',\n",
       "       '12 shared baths', '4 shared baths', '8.5 baths', '0 shared baths',\n",
       "       '2.5 shared baths', 'Half-bath', '12 baths', '11 baths',\n",
       "       '13 baths', '9 baths', '3 shared baths', '3.5 shared baths',\n",
       "       '12.5 baths', '32 baths', '19 baths', 'Private half-bath',\n",
       "       '13 shared baths', '10 baths', '14 baths', '16 baths'],\n",
       "      dtype=object)"
      ]
     },
     "execution_count": 11,
     "metadata": {},
     "output_type": "execute_result"
    }
   ],
   "source": [
    "basic_df['bathrooms_text'].unique()"
   ]
  },
  {
   "cell_type": "code",
   "execution_count": 12,
   "metadata": {},
   "outputs": [],
   "source": [
    "def convert_bathrooms(df: pd.DataFrame, st = \"bathrooms\", col = \"bathrooms_text\"):\n",
    "    for i in range(len(df)):\n",
    "        s = df[col][i]\n",
    "        if s == 'Shared half-bath':\n",
    "            s = '0.5 '\n",
    "        elif s == 'Half-bath':\n",
    "            s = '0.5 '\n",
    "        elif s == 'Private half-bath':\n",
    "            s = '0.5 '\n",
    "        if s is not np.nan:\n",
    "            s = s[:s.index(' ')]\n",
    "            df[st][i] = float(s)\n",
    "    \n",
    "convert_bathrooms(basic_df)"
   ]
  },
  {
   "cell_type": "markdown",
   "metadata": {},
   "source": [
    "**3. Convertimos a One Hot la variable _room\\_type_**\n",
    "Puesto que si se ejecuta un *.unique()* sobre la columna sólo hay 4 diferentes valores, pues podemos codificar cómodamente como One Hot. Posteriormente, lo emplearemos para codificar otra"
   ]
  },
  {
   "cell_type": "code",
   "execution_count": 13,
   "metadata": {},
   "outputs": [
    {
     "data": {
      "text/html": [
       "<div>\n",
       "<style scoped>\n",
       "    .dataframe tbody tr th:only-of-type {\n",
       "        vertical-align: middle;\n",
       "    }\n",
       "\n",
       "    .dataframe tbody tr th {\n",
       "        vertical-align: top;\n",
       "    }\n",
       "\n",
       "    .dataframe thead th {\n",
       "        text-align: right;\n",
       "    }\n",
       "</style>\n",
       "<table border=\"1\" class=\"dataframe\">\n",
       "  <thead>\n",
       "    <tr style=\"text-align: right;\">\n",
       "      <th></th>\n",
       "      <th>is_Entire home/apt</th>\n",
       "      <th>is_Hotel room</th>\n",
       "      <th>is_Private room</th>\n",
       "      <th>is_Shared room</th>\n",
       "    </tr>\n",
       "  </thead>\n",
       "  <tbody>\n",
       "    <tr>\n",
       "      <th>0</th>\n",
       "      <td>1</td>\n",
       "      <td>0</td>\n",
       "      <td>0</td>\n",
       "      <td>0</td>\n",
       "    </tr>\n",
       "    <tr>\n",
       "      <th>1</th>\n",
       "      <td>1</td>\n",
       "      <td>0</td>\n",
       "      <td>0</td>\n",
       "      <td>0</td>\n",
       "    </tr>\n",
       "    <tr>\n",
       "      <th>2</th>\n",
       "      <td>1</td>\n",
       "      <td>0</td>\n",
       "      <td>0</td>\n",
       "      <td>0</td>\n",
       "    </tr>\n",
       "    <tr>\n",
       "      <th>3</th>\n",
       "      <td>1</td>\n",
       "      <td>0</td>\n",
       "      <td>0</td>\n",
       "      <td>0</td>\n",
       "    </tr>\n",
       "    <tr>\n",
       "      <th>4</th>\n",
       "      <td>0</td>\n",
       "      <td>0</td>\n",
       "      <td>1</td>\n",
       "      <td>0</td>\n",
       "    </tr>\n",
       "  </tbody>\n",
       "</table>\n",
       "</div>"
      ],
      "text/plain": [
       "   is_Entire home/apt  is_Hotel room  is_Private room  is_Shared room\n",
       "0                   1              0                0               0\n",
       "1                   1              0                0               0\n",
       "2                   1              0                0               0\n",
       "3                   1              0                0               0\n",
       "4                   0              0                1               0"
      ]
     },
     "execution_count": 13,
     "metadata": {},
     "output_type": "execute_result"
    }
   ],
   "source": [
    "room_dummies = basic_df[['room_type']]\n",
    "room_dummies = pd.get_dummies(room_dummies, prefix='is')\n",
    "room_dummies.head()"
   ]
  },
  {
   "cell_type": "markdown",
   "metadata": {},
   "source": [
    "### De las variables relativas al tipo de hospedaje se realizará un filtrado _ad-hoc_:\n",
    "Apreciando que codificar en One Hot multiplicaría las columnas en demasía, buscamos un tratamiento basado en la observación del propio _data frame_. Siendo consciente que esta información procede de una lista que no conocemos lo acotada que puede ser, suponemos que están todas las posibilidades relevantes y, por ende, estamos modelando correctamente. \n",
    "\n",
    "En concreto, tomaríamos: apartment, house, townhouse, villa, gueshouse, loft, cottage, castle, condominium, boutique hotel, room, chalet, cabin, boat, Camper/RV, hostel, bed and breakfast, bungalow, ...\n",
    "\n",
    "Dado que corresponde un poco con la definición que ofrece el *host*, eliminaremos esta valoración a priori se reincorporaría si el modelo de predicción no ofrece un error en la predicción aceptable."
   ]
  },
  {
   "cell_type": "markdown",
   "metadata": {},
   "source": [
    "### Adaptación del tipo de alojamiento:"
   ]
  },
  {
   "cell_type": "code",
   "execution_count": 14,
   "metadata": {},
   "outputs": [
    {
     "data": {
      "text/plain": [
       "array(['entire apartment', 'entire house', 'entire townhouse',\n",
       "       'entire villa', 'private room in apartment', 'entire guesthouse',\n",
       "       'private room in guest suite', 'private room in villa',\n",
       "       'entire loft', 'entire cottage', 'castle', 'entire condominium',\n",
       "       'room in boutique hotel', 'private room', 'private room in house',\n",
       "       'entire chalet', 'entire cabin', 'private room in condominium',\n",
       "       'entire guest suite', 'private room in boat',\n",
       "       'private room in cottage', 'camper/rv', 'boat',\n",
       "       'private room in townhouse', 'private room in hostel',\n",
       "       'private room in bed and breakfast', 'entire serviced apartment',\n",
       "       'private room in guesthouse', 'shared room in apartment',\n",
       "       'farm stay', 'room in serviced apartment',\n",
       "       'room in bed and breakfast', 'private room in chalet',\n",
       "       'entire bungalow', 'room in hotel', 'island',\n",
       "       'shared room in igloo', 'private room in farm stay',\n",
       "       'shared room in bed and breakfast', 'entire bed and breakfast',\n",
       "       'entire place', 'room in aparthotel', 'entire vacation home',\n",
       "       'private room in bungalow', 'shared room in house', 'earth house',\n",
       "       'entire floor', 'room in hostel', 'room in resort',\n",
       "       'room in nature lodge', 'private room in cabin', 'tiny house',\n",
       "       'shared room in condominium', 'shared room in guesthouse',\n",
       "       'private room in hut', 'entire resort', 'windmill', 'dome house',\n",
       "       'private room in loft', 'private room in serviced apartment',\n",
       "       'private room in earth house', 'private room in casa particular',\n",
       "       'casa particular', 'cave', 'private room in castle',\n",
       "       'private room in resort', 'private room in dome house',\n",
       "       'private room in tiny house', 'houseboat',\n",
       "       'shared room in farm stay', 'room in heritage hotel',\n",
       "       'private room in island', 'shared room in townhouse', 'barn'],\n",
       "      dtype=object)"
      ]
     },
     "execution_count": 14,
     "metadata": {},
     "output_type": "execute_result"
    }
   ],
   "source": [
    "# Adaptación de los tipos de propiedad:\n",
    "prop_type = basic_df['property_type']\n",
    "for i in range(len(prop_type)):\n",
    "    prop_type[i] = prop_type[i].lower()\n",
    "prop_type.unique()"
   ]
  },
  {
   "cell_type": "markdown",
   "metadata": {},
   "source": [
    "### Resumimos las frases para las diferentes descripciones"
   ]
  },
  {
   "cell_type": "markdown",
   "metadata": {},
   "source": [
    "Consideramos lógico que en el precio influyan de diferente forma si es privado/compartido, si es el hospedaje entero o solo una habitación (room/entire) o si qué tipo de construcción más típicas sería (home/apartment/hotel/hostel/resort) y si no es ninguno de ellos se guardará igual."
   ]
  },
  {
   "cell_type": "code",
   "execution_count": 15,
   "metadata": {},
   "outputs": [],
   "source": [
    "for i in range(len(prop_type)):\n",
    "    new = []\n",
    "    if 'entire' in prop_type[i]:\n",
    "        new.append('entire')\n",
    "    elif 'room' in prop_type[i]:\n",
    "        new.append('room')\n",
    "    else:\n",
    "        new.append(None)\n",
    "        \n",
    "    if 'private' in prop_type[i]:\n",
    "        new.append('private')\n",
    "    elif 'shared' in prop_type[i]:\n",
    "        new.append('shared')\n",
    "    else:\n",
    "        new.append(None)\n",
    "        \n",
    "    if 'house' in prop_type[i]:\n",
    "        new.append('house')\n",
    "    elif 'casa' in prop_type[i]:\n",
    "        new.append('house')\n",
    "    elif 'apartment' in prop_type[i]:\n",
    "        new.append('apartment')\n",
    "    elif 'hotel' in prop_type[i]:\n",
    "        new.append('hotel')\n",
    "    elif 'hostel' in prop_type[i]:\n",
    "        new.append('hostel')\n",
    "    elif 'resort' in prop_type[i]:\n",
    "        new.append('resort')\n",
    "    elif 'villa' in prop_type[i]:\n",
    "        new.append('villa')\n",
    "    else:\n",
    "        new.append(None)\n",
    "    \n",
    "    if all(item == None for item in new):\n",
    "        new.append(prop_type[i])\n",
    "    else:\n",
    "        new.append(None)\n",
    "        \n",
    "    prop_type[i] = new\n",
    "\n",
    "basic_df['property_type'] = prop_type"
   ]
  },
  {
   "cell_type": "markdown",
   "metadata": {},
   "source": [
    "Se completa el resumen de las descripciones con la información de la columna _room_type_."
   ]
  },
  {
   "cell_type": "code",
   "execution_count": 16,
   "metadata": {},
   "outputs": [
    {
     "data": {
      "text/html": [
       "<div>\n",
       "<style scoped>\n",
       "    .dataframe tbody tr th:only-of-type {\n",
       "        vertical-align: middle;\n",
       "    }\n",
       "\n",
       "    .dataframe tbody tr th {\n",
       "        vertical-align: top;\n",
       "    }\n",
       "\n",
       "    .dataframe thead th {\n",
       "        text-align: right;\n",
       "    }\n",
       "</style>\n",
       "<table border=\"1\" class=\"dataframe\">\n",
       "  <thead>\n",
       "    <tr style=\"text-align: right;\">\n",
       "      <th></th>\n",
       "      <th>latitude</th>\n",
       "      <th>longitude</th>\n",
       "      <th>property_type</th>\n",
       "      <th>room_type</th>\n",
       "      <th>accommodates</th>\n",
       "      <th>bathrooms</th>\n",
       "      <th>bathrooms_text</th>\n",
       "      <th>bedrooms</th>\n",
       "      <th>beds</th>\n",
       "      <th>amenities</th>\n",
       "      <th>price</th>\n",
       "      <th>minimum_nights</th>\n",
       "      <th>maximum_nights</th>\n",
       "      <th>minimum_minimum_nights</th>\n",
       "      <th>maximum_minimum_nights</th>\n",
       "      <th>minimum_maximum_nights</th>\n",
       "      <th>maximum_maximum_nights</th>\n",
       "    </tr>\n",
       "  </thead>\n",
       "  <tbody>\n",
       "    <tr>\n",
       "      <th>0</th>\n",
       "      <td>39.51888</td>\n",
       "      <td>2.48182</td>\n",
       "      <td>[entire, None, apartment, None]</td>\n",
       "      <td>Entire home/apt</td>\n",
       "      <td>2</td>\n",
       "      <td>1.0</td>\n",
       "      <td>1 bath</td>\n",
       "      <td>1.0</td>\n",
       "      <td>1.0</td>\n",
       "      <td>[\"Oven\", \"Wifi\", \"Coffee maker\", \"Dishes and s...</td>\n",
       "      <td>89</td>\n",
       "      <td>5</td>\n",
       "      <td>60</td>\n",
       "      <td>5</td>\n",
       "      <td>5</td>\n",
       "      <td>60</td>\n",
       "      <td>60</td>\n",
       "    </tr>\n",
       "    <tr>\n",
       "      <th>1</th>\n",
       "      <td>39.76347</td>\n",
       "      <td>3.16255</td>\n",
       "      <td>[entire, None, apartment, None]</td>\n",
       "      <td>Entire home/apt</td>\n",
       "      <td>8</td>\n",
       "      <td>3.0</td>\n",
       "      <td>3 baths</td>\n",
       "      <td>4.0</td>\n",
       "      <td>7.0</td>\n",
       "      <td>[\"First aid kit\", \"Hair dryer\", \"Iron\", \"Washe...</td>\n",
       "      <td>175</td>\n",
       "      <td>7</td>\n",
       "      <td>365</td>\n",
       "      <td>7</td>\n",
       "      <td>7</td>\n",
       "      <td>1125</td>\n",
       "      <td>1125</td>\n",
       "    </tr>\n",
       "    <tr>\n",
       "      <th>2</th>\n",
       "      <td>39.66044</td>\n",
       "      <td>3.07165</td>\n",
       "      <td>[entire, None, apartment, None]</td>\n",
       "      <td>Entire home/apt</td>\n",
       "      <td>6</td>\n",
       "      <td>2.0</td>\n",
       "      <td>2 baths</td>\n",
       "      <td>3.0</td>\n",
       "      <td>4.0</td>\n",
       "      <td>[\"Smoke alarm\", \"Oven\", \"Wifi\", \"Garden or bac...</td>\n",
       "      <td>140</td>\n",
       "      <td>6</td>\n",
       "      <td>365</td>\n",
       "      <td>6</td>\n",
       "      <td>6</td>\n",
       "      <td>365</td>\n",
       "      <td>365</td>\n",
       "    </tr>\n",
       "    <tr>\n",
       "      <th>3</th>\n",
       "      <td>39.61600</td>\n",
       "      <td>3.30121</td>\n",
       "      <td>[entire, None, apartment, None]</td>\n",
       "      <td>Entire home/apt</td>\n",
       "      <td>4</td>\n",
       "      <td>1.0</td>\n",
       "      <td>1 bath</td>\n",
       "      <td>2.0</td>\n",
       "      <td>4.0</td>\n",
       "      <td>[\"Pool\", \"Free parking on premises\", \"Air cond...</td>\n",
       "      <td>200</td>\n",
       "      <td>5</td>\n",
       "      <td>365</td>\n",
       "      <td>5</td>\n",
       "      <td>5</td>\n",
       "      <td>365</td>\n",
       "      <td>365</td>\n",
       "    </tr>\n",
       "    <tr>\n",
       "      <th>4</th>\n",
       "      <td>39.56478</td>\n",
       "      <td>2.60333</td>\n",
       "      <td>[room, private, apartment, None]</td>\n",
       "      <td>Private room</td>\n",
       "      <td>2</td>\n",
       "      <td>1.0</td>\n",
       "      <td>1 bath</td>\n",
       "      <td>1.0</td>\n",
       "      <td>2.0</td>\n",
       "      <td>[\"Pool\", \"Washer\", \"Air conditioning\", \"Kitche...</td>\n",
       "      <td>110</td>\n",
       "      <td>2</td>\n",
       "      <td>365</td>\n",
       "      <td>2</td>\n",
       "      <td>2</td>\n",
       "      <td>365</td>\n",
       "      <td>365</td>\n",
       "    </tr>\n",
       "  </tbody>\n",
       "</table>\n",
       "</div>"
      ],
      "text/plain": [
       "   latitude  longitude                     property_type        room_type  \\\n",
       "0  39.51888    2.48182   [entire, None, apartment, None]  Entire home/apt   \n",
       "1  39.76347    3.16255   [entire, None, apartment, None]  Entire home/apt   \n",
       "2  39.66044    3.07165   [entire, None, apartment, None]  Entire home/apt   \n",
       "3  39.61600    3.30121   [entire, None, apartment, None]  Entire home/apt   \n",
       "4  39.56478    2.60333  [room, private, apartment, None]     Private room   \n",
       "\n",
       "   accommodates  bathrooms bathrooms_text  bedrooms  beds  \\\n",
       "0             2        1.0         1 bath       1.0   1.0   \n",
       "1             8        3.0        3 baths       4.0   7.0   \n",
       "2             6        2.0        2 baths       3.0   4.0   \n",
       "3             4        1.0         1 bath       2.0   4.0   \n",
       "4             2        1.0         1 bath       1.0   2.0   \n",
       "\n",
       "                                           amenities price  minimum_nights  \\\n",
       "0  [\"Oven\", \"Wifi\", \"Coffee maker\", \"Dishes and s...    89               5   \n",
       "1  [\"First aid kit\", \"Hair dryer\", \"Iron\", \"Washe...   175               7   \n",
       "2  [\"Smoke alarm\", \"Oven\", \"Wifi\", \"Garden or bac...   140               6   \n",
       "3  [\"Pool\", \"Free parking on premises\", \"Air cond...   200               5   \n",
       "4  [\"Pool\", \"Washer\", \"Air conditioning\", \"Kitche...   110               2   \n",
       "\n",
       "   maximum_nights  minimum_minimum_nights  maximum_minimum_nights  \\\n",
       "0              60                       5                       5   \n",
       "1             365                       7                       7   \n",
       "2             365                       6                       6   \n",
       "3             365                       5                       5   \n",
       "4             365                       2                       2   \n",
       "\n",
       "   minimum_maximum_nights  maximum_maximum_nights  \n",
       "0                      60                      60  \n",
       "1                    1125                    1125  \n",
       "2                     365                     365  \n",
       "3                     365                     365  \n",
       "4                     365                     365  "
      ]
     },
     "execution_count": 16,
     "metadata": {},
     "output_type": "execute_result"
    }
   ],
   "source": [
    "for i in range(len(basic_df)): # que es la misma que room dummies\n",
    "    l = basic_df['property_type'][i]\n",
    "    if room_dummies['is_Entire home/apt'][i] == 1:\n",
    "        l[0] = 'entire'\n",
    "        l[2] = 'apartment'\n",
    "        l[3] = None\n",
    "    elif room_dummies['is_Hotel room'][i] == 1:\n",
    "        l[0] = 'entire'\n",
    "        l[1] = 'private'\n",
    "        l[2] = 'hotel'\n",
    "        l[3] = None\n",
    "    elif room_dummies['is_Private room'][i] == 1:\n",
    "        l[0] = 'room'\n",
    "        l[1] = 'private'\n",
    "    else:\n",
    "        l[0] = 'room'\n",
    "        l[1] = 'shared'\n",
    "    basic_df['property_type'][i] = l\n",
    "    \n",
    "basic_df.head()"
   ]
  },
  {
   "cell_type": "markdown",
   "metadata": {},
   "source": [
    "- Tratamiento de las **variables _amenities_**: \n",
    "se revisa el contenido de las listas de strings que implica esta característica."
   ]
  },
  {
   "cell_type": "code",
   "execution_count": 17,
   "metadata": {},
   "outputs": [
    {
     "data": {
      "text/plain": [
       "210"
      ]
     },
     "execution_count": 17,
     "metadata": {},
     "output_type": "execute_result"
    }
   ],
   "source": [
    "amenities = basic_df[['amenities']]\n",
    "l_amnt = []\n",
    "for i in range(len(amenities)):\n",
    "    amnt = amenities['amenities'][i]\n",
    "    amnt = amnt.replace('[', '')\n",
    "    amnt = amnt.replace(' ', '')\n",
    "    amnt = amnt.replace('\"', '')\n",
    "    amnt = amnt.replace(']', '')\n",
    "    amnt = amnt.lower()\n",
    "    amnt = amnt.split(',')\n",
    "    l_amnt.extend(amnt)\n",
    "    l_amnt = list(set(l_amnt)) # remove duplicates\n",
    "\n",
    "len(l_amnt)"
   ]
  },
  {
   "cell_type": "markdown",
   "metadata": {},
   "source": [
    "Observamos que en el conjunto de existen hasta 210 items diferentes. Las comodidades también dependen de la descripción que desee ofrecer el hospedador. Con lo que se valorará incluirlas en posibles mejoras del modelo si los datos incluidos no son suficientes y como un valor numérico igual a la cantidad de items para cada observación del data frame. Codificaciones como el el One Hot no son útiles para este caso, por ejemplo."
   ]
  },
  {
   "cell_type": "code",
   "execution_count": 18,
   "metadata": {},
   "outputs": [],
   "source": [
    "amenities = basic_df.pop('amenities')"
   ]
  },
  {
   "cell_type": "markdown",
   "metadata": {},
   "source": [
    "## 2.3. Separamos en variables numéricas y no numericas para tratar los posibles NaN y otros valores."
   ]
  },
  {
   "cell_type": "code",
   "execution_count": 19,
   "metadata": {},
   "outputs": [
    {
     "data": {
      "text/html": [
       "<div>\n",
       "<style scoped>\n",
       "    .dataframe tbody tr th:only-of-type {\n",
       "        vertical-align: middle;\n",
       "    }\n",
       "\n",
       "    .dataframe tbody tr th {\n",
       "        vertical-align: top;\n",
       "    }\n",
       "\n",
       "    .dataframe thead th {\n",
       "        text-align: right;\n",
       "    }\n",
       "</style>\n",
       "<table border=\"1\" class=\"dataframe\">\n",
       "  <thead>\n",
       "    <tr style=\"text-align: right;\">\n",
       "      <th></th>\n",
       "      <th>latitude</th>\n",
       "      <th>longitude</th>\n",
       "      <th>accommodates</th>\n",
       "      <th>bathrooms</th>\n",
       "      <th>bedrooms</th>\n",
       "      <th>beds</th>\n",
       "      <th>minimum_nights</th>\n",
       "      <th>maximum_nights</th>\n",
       "      <th>minimum_minimum_nights</th>\n",
       "      <th>maximum_minimum_nights</th>\n",
       "      <th>minimum_maximum_nights</th>\n",
       "      <th>maximum_maximum_nights</th>\n",
       "    </tr>\n",
       "  </thead>\n",
       "  <tbody>\n",
       "    <tr>\n",
       "      <th>count</th>\n",
       "      <td>17608.000000</td>\n",
       "      <td>17608.000000</td>\n",
       "      <td>17608.000000</td>\n",
       "      <td>17600.000000</td>\n",
       "      <td>17333.000000</td>\n",
       "      <td>17511.000000</td>\n",
       "      <td>17608.000000</td>\n",
       "      <td>17608.000000</td>\n",
       "      <td>17608.000000</td>\n",
       "      <td>17608.000000</td>\n",
       "      <td>17608.000000</td>\n",
       "      <td>17608.000000</td>\n",
       "    </tr>\n",
       "    <tr>\n",
       "      <th>mean</th>\n",
       "      <td>39.657597</td>\n",
       "      <td>2.994115</td>\n",
       "      <td>5.857962</td>\n",
       "      <td>2.290028</td>\n",
       "      <td>2.952980</td>\n",
       "      <td>4.357147</td>\n",
       "      <td>4.071842</td>\n",
       "      <td>933.881474</td>\n",
       "      <td>4.531577</td>\n",
       "      <td>6.089334</td>\n",
       "      <td>840.952067</td>\n",
       "      <td>925.781520</td>\n",
       "    </tr>\n",
       "    <tr>\n",
       "      <th>std</th>\n",
       "      <td>0.165577</td>\n",
       "      <td>0.246129</td>\n",
       "      <td>2.727737</td>\n",
       "      <td>1.362623</td>\n",
       "      <td>1.520433</td>\n",
       "      <td>2.561838</td>\n",
       "      <td>12.552854</td>\n",
       "      <td>402.517515</td>\n",
       "      <td>13.305965</td>\n",
       "      <td>15.672448</td>\n",
       "      <td>471.007202</td>\n",
       "      <td>409.085046</td>\n",
       "    </tr>\n",
       "    <tr>\n",
       "      <th>min</th>\n",
       "      <td>39.301970</td>\n",
       "      <td>2.346500</td>\n",
       "      <td>0.000000</td>\n",
       "      <td>0.000000</td>\n",
       "      <td>1.000000</td>\n",
       "      <td>0.000000</td>\n",
       "      <td>1.000000</td>\n",
       "      <td>1.000000</td>\n",
       "      <td>1.000000</td>\n",
       "      <td>1.000000</td>\n",
       "      <td>1.000000</td>\n",
       "      <td>1.000000</td>\n",
       "    </tr>\n",
       "    <tr>\n",
       "      <th>25%</th>\n",
       "      <td>39.543433</td>\n",
       "      <td>2.796892</td>\n",
       "      <td>4.000000</td>\n",
       "      <td>1.000000</td>\n",
       "      <td>2.000000</td>\n",
       "      <td>3.000000</td>\n",
       "      <td>1.000000</td>\n",
       "      <td>1125.000000</td>\n",
       "      <td>2.000000</td>\n",
       "      <td>3.000000</td>\n",
       "      <td>365.000000</td>\n",
       "      <td>1125.000000</td>\n",
       "    </tr>\n",
       "    <tr>\n",
       "      <th>50%</th>\n",
       "      <td>39.670285</td>\n",
       "      <td>3.047310</td>\n",
       "      <td>6.000000</td>\n",
       "      <td>2.000000</td>\n",
       "      <td>3.000000</td>\n",
       "      <td>4.000000</td>\n",
       "      <td>3.000000</td>\n",
       "      <td>1125.000000</td>\n",
       "      <td>4.000000</td>\n",
       "      <td>5.000000</td>\n",
       "      <td>1125.000000</td>\n",
       "      <td>1125.000000</td>\n",
       "    </tr>\n",
       "    <tr>\n",
       "      <th>75%</th>\n",
       "      <td>39.797413</td>\n",
       "      <td>3.145215</td>\n",
       "      <td>8.000000</td>\n",
       "      <td>3.000000</td>\n",
       "      <td>4.000000</td>\n",
       "      <td>6.000000</td>\n",
       "      <td>5.000000</td>\n",
       "      <td>1125.000000</td>\n",
       "      <td>5.000000</td>\n",
       "      <td>7.000000</td>\n",
       "      <td>1125.000000</td>\n",
       "      <td>1125.000000</td>\n",
       "    </tr>\n",
       "    <tr>\n",
       "      <th>max</th>\n",
       "      <td>39.930650</td>\n",
       "      <td>3.475520</td>\n",
       "      <td>16.000000</td>\n",
       "      <td>32.000000</td>\n",
       "      <td>40.000000</td>\n",
       "      <td>50.000000</td>\n",
       "      <td>1124.000000</td>\n",
       "      <td>3500.000000</td>\n",
       "      <td>1124.000000</td>\n",
       "      <td>1124.000000</td>\n",
       "      <td>3500.000000</td>\n",
       "      <td>3500.000000</td>\n",
       "    </tr>\n",
       "  </tbody>\n",
       "</table>\n",
       "</div>"
      ],
      "text/plain": [
       "           latitude     longitude  accommodates     bathrooms      bedrooms  \\\n",
       "count  17608.000000  17608.000000  17608.000000  17600.000000  17333.000000   \n",
       "mean      39.657597      2.994115      5.857962      2.290028      2.952980   \n",
       "std        0.165577      0.246129      2.727737      1.362623      1.520433   \n",
       "min       39.301970      2.346500      0.000000      0.000000      1.000000   \n",
       "25%       39.543433      2.796892      4.000000      1.000000      2.000000   \n",
       "50%       39.670285      3.047310      6.000000      2.000000      3.000000   \n",
       "75%       39.797413      3.145215      8.000000      3.000000      4.000000   \n",
       "max       39.930650      3.475520     16.000000     32.000000     40.000000   \n",
       "\n",
       "               beds  minimum_nights  maximum_nights  minimum_minimum_nights  \\\n",
       "count  17511.000000    17608.000000    17608.000000            17608.000000   \n",
       "mean       4.357147        4.071842      933.881474                4.531577   \n",
       "std        2.561838       12.552854      402.517515               13.305965   \n",
       "min        0.000000        1.000000        1.000000                1.000000   \n",
       "25%        3.000000        1.000000     1125.000000                2.000000   \n",
       "50%        4.000000        3.000000     1125.000000                4.000000   \n",
       "75%        6.000000        5.000000     1125.000000                5.000000   \n",
       "max       50.000000     1124.000000     3500.000000             1124.000000   \n",
       "\n",
       "       maximum_minimum_nights  minimum_maximum_nights  maximum_maximum_nights  \n",
       "count            17608.000000            17608.000000            17608.000000  \n",
       "mean                 6.089334              840.952067              925.781520  \n",
       "std                 15.672448              471.007202              409.085046  \n",
       "min                  1.000000                1.000000                1.000000  \n",
       "25%                  3.000000              365.000000             1125.000000  \n",
       "50%                  5.000000             1125.000000             1125.000000  \n",
       "75%                  7.000000             1125.000000             1125.000000  \n",
       "max               1124.000000             3500.000000             3500.000000  "
      ]
     },
     "execution_count": 19,
     "metadata": {},
     "output_type": "execute_result"
    }
   ],
   "source": [
    "for i in range(len(basic_df)):\n",
    "    basic_df['minimum_nights'][i] = np.minimum(basic_df['minimum_nights'][i], basic_df['minimum_minimum_nights'][i])\n",
    "    basic_df['maximum_nights'][i] = np.maximum(basic_df['maximum_nights'][i], basic_df['maximum_maximum_nights'][i])\n",
    "    \n",
    "basic_df.describe()"
   ]
  },
  {
   "cell_type": "code",
   "execution_count": 20,
   "metadata": {},
   "outputs": [],
   "source": [
    "basic_df = basic_df.drop(['bathrooms_text', 'room_type', 'minimum_minimum_nights', 'maximum_minimum_nights', 'minimum_maximum_nights', 'maximum_maximum_nights'], axis = 1)"
   ]
  },
  {
   "cell_type": "markdown",
   "metadata": {},
   "source": [
    "## 2.4. Separación del dataframe para normalizar datos:\n",
    "Separación del dataframe en la parte a priori numérica para normalizarla y por otro lado se condificará de otra forma, tras el resumen, la infromación contenida en `property_type`."
   ]
  },
  {
   "cell_type": "code",
   "execution_count": 21,
   "metadata": {},
   "outputs": [
    {
     "data": {
      "text/html": [
       "<div>\n",
       "<style scoped>\n",
       "    .dataframe tbody tr th:only-of-type {\n",
       "        vertical-align: middle;\n",
       "    }\n",
       "\n",
       "    .dataframe tbody tr th {\n",
       "        vertical-align: top;\n",
       "    }\n",
       "\n",
       "    .dataframe thead th {\n",
       "        text-align: right;\n",
       "    }\n",
       "</style>\n",
       "<table border=\"1\" class=\"dataframe\">\n",
       "  <thead>\n",
       "    <tr style=\"text-align: right;\">\n",
       "      <th></th>\n",
       "      <th>latitude</th>\n",
       "      <th>longitude</th>\n",
       "      <th>property_type</th>\n",
       "      <th>accommodates</th>\n",
       "      <th>bathrooms</th>\n",
       "      <th>bedrooms</th>\n",
       "      <th>beds</th>\n",
       "      <th>price</th>\n",
       "      <th>minimum_nights</th>\n",
       "      <th>maximum_nights</th>\n",
       "    </tr>\n",
       "  </thead>\n",
       "  <tbody>\n",
       "    <tr>\n",
       "      <th>0</th>\n",
       "      <td>39.51888</td>\n",
       "      <td>2.48182</td>\n",
       "      <td>[entire, None, apartment, None]</td>\n",
       "      <td>2</td>\n",
       "      <td>1.0</td>\n",
       "      <td>1.0</td>\n",
       "      <td>1.0</td>\n",
       "      <td>89</td>\n",
       "      <td>5</td>\n",
       "      <td>60</td>\n",
       "    </tr>\n",
       "    <tr>\n",
       "      <th>1</th>\n",
       "      <td>39.76347</td>\n",
       "      <td>3.16255</td>\n",
       "      <td>[entire, None, apartment, None]</td>\n",
       "      <td>8</td>\n",
       "      <td>3.0</td>\n",
       "      <td>4.0</td>\n",
       "      <td>7.0</td>\n",
       "      <td>175</td>\n",
       "      <td>7</td>\n",
       "      <td>1125</td>\n",
       "    </tr>\n",
       "    <tr>\n",
       "      <th>2</th>\n",
       "      <td>39.66044</td>\n",
       "      <td>3.07165</td>\n",
       "      <td>[entire, None, apartment, None]</td>\n",
       "      <td>6</td>\n",
       "      <td>2.0</td>\n",
       "      <td>3.0</td>\n",
       "      <td>4.0</td>\n",
       "      <td>140</td>\n",
       "      <td>6</td>\n",
       "      <td>365</td>\n",
       "    </tr>\n",
       "    <tr>\n",
       "      <th>3</th>\n",
       "      <td>39.61600</td>\n",
       "      <td>3.30121</td>\n",
       "      <td>[entire, None, apartment, None]</td>\n",
       "      <td>4</td>\n",
       "      <td>1.0</td>\n",
       "      <td>2.0</td>\n",
       "      <td>4.0</td>\n",
       "      <td>200</td>\n",
       "      <td>5</td>\n",
       "      <td>365</td>\n",
       "    </tr>\n",
       "    <tr>\n",
       "      <th>4</th>\n",
       "      <td>39.56478</td>\n",
       "      <td>2.60333</td>\n",
       "      <td>[room, private, apartment, None]</td>\n",
       "      <td>2</td>\n",
       "      <td>1.0</td>\n",
       "      <td>1.0</td>\n",
       "      <td>2.0</td>\n",
       "      <td>110</td>\n",
       "      <td>2</td>\n",
       "      <td>365</td>\n",
       "    </tr>\n",
       "  </tbody>\n",
       "</table>\n",
       "</div>"
      ],
      "text/plain": [
       "   latitude  longitude                     property_type  accommodates  \\\n",
       "0  39.51888    2.48182   [entire, None, apartment, None]             2   \n",
       "1  39.76347    3.16255   [entire, None, apartment, None]             8   \n",
       "2  39.66044    3.07165   [entire, None, apartment, None]             6   \n",
       "3  39.61600    3.30121   [entire, None, apartment, None]             4   \n",
       "4  39.56478    2.60333  [room, private, apartment, None]             2   \n",
       "\n",
       "   bathrooms  bedrooms  beds price  minimum_nights  maximum_nights  \n",
       "0        1.0       1.0   1.0    89               5              60  \n",
       "1        3.0       4.0   7.0   175               7            1125  \n",
       "2        2.0       3.0   4.0   140               6             365  \n",
       "3        1.0       2.0   4.0   200               5             365  \n",
       "4        1.0       1.0   2.0   110               2             365  "
      ]
     },
     "execution_count": 21,
     "metadata": {},
     "output_type": "execute_result"
    }
   ],
   "source": [
    "basic_df.head()"
   ]
  },
  {
   "cell_type": "markdown",
   "metadata": {},
   "source": [
    "Extraemos la variable `property_type` para codificar cada una de sus valores en una serie de datos numéricos enteros."
   ]
  },
  {
   "cell_type": "code",
   "execution_count": 22,
   "metadata": {},
   "outputs": [
    {
     "data": {
      "text/html": [
       "<div>\n",
       "<style scoped>\n",
       "    .dataframe tbody tr th:only-of-type {\n",
       "        vertical-align: middle;\n",
       "    }\n",
       "\n",
       "    .dataframe tbody tr th {\n",
       "        vertical-align: top;\n",
       "    }\n",
       "\n",
       "    .dataframe thead th {\n",
       "        text-align: right;\n",
       "    }\n",
       "</style>\n",
       "<table border=\"1\" class=\"dataframe\">\n",
       "  <thead>\n",
       "    <tr style=\"text-align: right;\">\n",
       "      <th></th>\n",
       "      <th>latitude</th>\n",
       "      <th>longitude</th>\n",
       "      <th>accommodates</th>\n",
       "      <th>bathrooms</th>\n",
       "      <th>bedrooms</th>\n",
       "      <th>beds</th>\n",
       "      <th>price</th>\n",
       "      <th>minimum_nights</th>\n",
       "      <th>maximum_nights</th>\n",
       "    </tr>\n",
       "  </thead>\n",
       "  <tbody>\n",
       "    <tr>\n",
       "      <th>0</th>\n",
       "      <td>39.51888</td>\n",
       "      <td>2.48182</td>\n",
       "      <td>2</td>\n",
       "      <td>1.0</td>\n",
       "      <td>1.0</td>\n",
       "      <td>1.0</td>\n",
       "      <td>89</td>\n",
       "      <td>5</td>\n",
       "      <td>60</td>\n",
       "    </tr>\n",
       "    <tr>\n",
       "      <th>1</th>\n",
       "      <td>39.76347</td>\n",
       "      <td>3.16255</td>\n",
       "      <td>8</td>\n",
       "      <td>3.0</td>\n",
       "      <td>4.0</td>\n",
       "      <td>7.0</td>\n",
       "      <td>175</td>\n",
       "      <td>7</td>\n",
       "      <td>1125</td>\n",
       "    </tr>\n",
       "    <tr>\n",
       "      <th>2</th>\n",
       "      <td>39.66044</td>\n",
       "      <td>3.07165</td>\n",
       "      <td>6</td>\n",
       "      <td>2.0</td>\n",
       "      <td>3.0</td>\n",
       "      <td>4.0</td>\n",
       "      <td>140</td>\n",
       "      <td>6</td>\n",
       "      <td>365</td>\n",
       "    </tr>\n",
       "    <tr>\n",
       "      <th>3</th>\n",
       "      <td>39.61600</td>\n",
       "      <td>3.30121</td>\n",
       "      <td>4</td>\n",
       "      <td>1.0</td>\n",
       "      <td>2.0</td>\n",
       "      <td>4.0</td>\n",
       "      <td>200</td>\n",
       "      <td>5</td>\n",
       "      <td>365</td>\n",
       "    </tr>\n",
       "    <tr>\n",
       "      <th>4</th>\n",
       "      <td>39.56478</td>\n",
       "      <td>2.60333</td>\n",
       "      <td>2</td>\n",
       "      <td>1.0</td>\n",
       "      <td>1.0</td>\n",
       "      <td>2.0</td>\n",
       "      <td>110</td>\n",
       "      <td>2</td>\n",
       "      <td>365</td>\n",
       "    </tr>\n",
       "  </tbody>\n",
       "</table>\n",
       "</div>"
      ],
      "text/plain": [
       "   latitude  longitude  accommodates  bathrooms  bedrooms  beds price  \\\n",
       "0  39.51888    2.48182             2        1.0       1.0   1.0    89   \n",
       "1  39.76347    3.16255             8        3.0       4.0   7.0   175   \n",
       "2  39.66044    3.07165             6        2.0       3.0   4.0   140   \n",
       "3  39.61600    3.30121             4        1.0       2.0   4.0   200   \n",
       "4  39.56478    2.60333             2        1.0       1.0   2.0   110   \n",
       "\n",
       "   minimum_nights  maximum_nights  \n",
       "0               5              60  \n",
       "1               7            1125  \n",
       "2               6             365  \n",
       "3               5             365  \n",
       "4               2             365  "
      ]
     },
     "execution_count": 22,
     "metadata": {},
     "output_type": "execute_result"
    }
   ],
   "source": [
    "prop_type = basic_df.pop('property_type')\n",
    "numericals = basic_df\n",
    "numericals.head()"
   ]
  },
  {
   "cell_type": "markdown",
   "metadata": {},
   "source": [
    "### 2.4.1. Property type: recodificación\n",
    "\n",
    "Las diferentes columnas de _prop_type_ se codificarán de la siguiente froma.\n",
    "\n",
    "1. Entire/room: +1/-1 y 0 en caso de None.\n",
    "1. Private/shared: +1/-1 y 0 para None.\n",
    "1. Villa/vouse/apartment/hostel/resort/hotel: +3/+2/+1/-1/-2/-3 y 0 para None.\n",
    "1. La cuarta columna será 0 para None y 1 para cualquier otro valor."
   ]
  },
  {
   "cell_type": "code",
   "execution_count": 23,
   "metadata": {},
   "outputs": [],
   "source": [
    "_one = {'entire': +1, 'room': -1, None: 0}\n",
    "_two = {'private': +1, 'shared': -1, None: 0}\n",
    "_three = {'villa': +3, 'house': +2, 'apartment': +1, 'hostel': -1, 'resort': -2, 'hotel': -3, None: 0}"
   ]
  },
  {
   "cell_type": "code",
   "execution_count": 24,
   "metadata": {},
   "outputs": [],
   "source": [
    "new_prop_type = []\n",
    "for i in prop_type:\n",
    "    integers = np.zeros(4)\n",
    "    integers[0] = _one[i[0]]\n",
    "    integers[1] = _two[i[1]]\n",
    "    integers[2] = _three[i[2]]\n",
    "    if i[3] == None:\n",
    "        integers[3] = 0\n",
    "    else:\n",
    "        integers[3] = 1\n",
    "    new_prop_type.append(integers)"
   ]
  },
  {
   "cell_type": "code",
   "execution_count": 25,
   "metadata": {},
   "outputs": [
    {
     "data": {
      "text/html": [
       "<div>\n",
       "<style scoped>\n",
       "    .dataframe tbody tr th:only-of-type {\n",
       "        vertical-align: middle;\n",
       "    }\n",
       "\n",
       "    .dataframe tbody tr th {\n",
       "        vertical-align: top;\n",
       "    }\n",
       "\n",
       "    .dataframe thead th {\n",
       "        text-align: right;\n",
       "    }\n",
       "</style>\n",
       "<table border=\"1\" class=\"dataframe\">\n",
       "  <thead>\n",
       "    <tr style=\"text-align: right;\">\n",
       "      <th></th>\n",
       "      <th>entire_room</th>\n",
       "      <th>private_shared</th>\n",
       "      <th>business</th>\n",
       "      <th>uncommon</th>\n",
       "    </tr>\n",
       "  </thead>\n",
       "  <tbody>\n",
       "    <tr>\n",
       "      <th>count</th>\n",
       "      <td>17608.000000</td>\n",
       "      <td>17608.000000</td>\n",
       "      <td>17608.000000</td>\n",
       "      <td>17608.0</td>\n",
       "    </tr>\n",
       "    <tr>\n",
       "      <th>mean</th>\n",
       "      <td>0.817356</td>\n",
       "      <td>0.102226</td>\n",
       "      <td>0.902715</td>\n",
       "      <td>0.0</td>\n",
       "    </tr>\n",
       "    <tr>\n",
       "      <th>std</th>\n",
       "      <td>0.576150</td>\n",
       "      <td>0.306496</td>\n",
       "      <td>0.672984</td>\n",
       "      <td>0.0</td>\n",
       "    </tr>\n",
       "    <tr>\n",
       "      <th>min</th>\n",
       "      <td>-1.000000</td>\n",
       "      <td>-1.000000</td>\n",
       "      <td>-3.000000</td>\n",
       "      <td>0.0</td>\n",
       "    </tr>\n",
       "    <tr>\n",
       "      <th>25%</th>\n",
       "      <td>1.000000</td>\n",
       "      <td>0.000000</td>\n",
       "      <td>1.000000</td>\n",
       "      <td>0.0</td>\n",
       "    </tr>\n",
       "    <tr>\n",
       "      <th>50%</th>\n",
       "      <td>1.000000</td>\n",
       "      <td>0.000000</td>\n",
       "      <td>1.000000</td>\n",
       "      <td>0.0</td>\n",
       "    </tr>\n",
       "    <tr>\n",
       "      <th>75%</th>\n",
       "      <td>1.000000</td>\n",
       "      <td>0.000000</td>\n",
       "      <td>1.000000</td>\n",
       "      <td>0.0</td>\n",
       "    </tr>\n",
       "    <tr>\n",
       "      <th>max</th>\n",
       "      <td>1.000000</td>\n",
       "      <td>1.000000</td>\n",
       "      <td>3.000000</td>\n",
       "      <td>0.0</td>\n",
       "    </tr>\n",
       "  </tbody>\n",
       "</table>\n",
       "</div>"
      ],
      "text/plain": [
       "        entire_room  private_shared      business  uncommon\n",
       "count  17608.000000    17608.000000  17608.000000   17608.0\n",
       "mean       0.817356        0.102226      0.902715       0.0\n",
       "std        0.576150        0.306496      0.672984       0.0\n",
       "min       -1.000000       -1.000000     -3.000000       0.0\n",
       "25%        1.000000        0.000000      1.000000       0.0\n",
       "50%        1.000000        0.000000      1.000000       0.0\n",
       "75%        1.000000        0.000000      1.000000       0.0\n",
       "max        1.000000        1.000000      3.000000       0.0"
      ]
     },
     "execution_count": 25,
     "metadata": {},
     "output_type": "execute_result"
    }
   ],
   "source": [
    "prop_type = pd.DataFrame(np.array(new_prop_type), columns=['entire_room', 'private_shared', 'business', 'uncommon'])\n",
    "prop_type.describe()"
   ]
  },
  {
   "cell_type": "markdown",
   "metadata": {},
   "source": [
    "### 2.4.2. Numerical data:"
   ]
  },
  {
   "cell_type": "code",
   "execution_count": 26,
   "metadata": {},
   "outputs": [
    {
     "data": {
      "text/html": [
       "<div>\n",
       "<style scoped>\n",
       "    .dataframe tbody tr th:only-of-type {\n",
       "        vertical-align: middle;\n",
       "    }\n",
       "\n",
       "    .dataframe tbody tr th {\n",
       "        vertical-align: top;\n",
       "    }\n",
       "\n",
       "    .dataframe thead th {\n",
       "        text-align: right;\n",
       "    }\n",
       "</style>\n",
       "<table border=\"1\" class=\"dataframe\">\n",
       "  <thead>\n",
       "    <tr style=\"text-align: right;\">\n",
       "      <th></th>\n",
       "      <th>latitude</th>\n",
       "      <th>longitude</th>\n",
       "      <th>accommodates</th>\n",
       "      <th>bathrooms</th>\n",
       "      <th>bedrooms</th>\n",
       "      <th>beds</th>\n",
       "      <th>minimum_nights</th>\n",
       "      <th>maximum_nights</th>\n",
       "    </tr>\n",
       "  </thead>\n",
       "  <tbody>\n",
       "    <tr>\n",
       "      <th>0</th>\n",
       "      <td>39.51888</td>\n",
       "      <td>2.48182</td>\n",
       "      <td>2</td>\n",
       "      <td>1.0</td>\n",
       "      <td>1.0</td>\n",
       "      <td>1.0</td>\n",
       "      <td>5</td>\n",
       "      <td>60</td>\n",
       "    </tr>\n",
       "    <tr>\n",
       "      <th>1</th>\n",
       "      <td>39.76347</td>\n",
       "      <td>3.16255</td>\n",
       "      <td>8</td>\n",
       "      <td>3.0</td>\n",
       "      <td>4.0</td>\n",
       "      <td>7.0</td>\n",
       "      <td>7</td>\n",
       "      <td>1125</td>\n",
       "    </tr>\n",
       "    <tr>\n",
       "      <th>2</th>\n",
       "      <td>39.66044</td>\n",
       "      <td>3.07165</td>\n",
       "      <td>6</td>\n",
       "      <td>2.0</td>\n",
       "      <td>3.0</td>\n",
       "      <td>4.0</td>\n",
       "      <td>6</td>\n",
       "      <td>365</td>\n",
       "    </tr>\n",
       "    <tr>\n",
       "      <th>3</th>\n",
       "      <td>39.61600</td>\n",
       "      <td>3.30121</td>\n",
       "      <td>4</td>\n",
       "      <td>1.0</td>\n",
       "      <td>2.0</td>\n",
       "      <td>4.0</td>\n",
       "      <td>5</td>\n",
       "      <td>365</td>\n",
       "    </tr>\n",
       "    <tr>\n",
       "      <th>4</th>\n",
       "      <td>39.56478</td>\n",
       "      <td>2.60333</td>\n",
       "      <td>2</td>\n",
       "      <td>1.0</td>\n",
       "      <td>1.0</td>\n",
       "      <td>2.0</td>\n",
       "      <td>2</td>\n",
       "      <td>365</td>\n",
       "    </tr>\n",
       "  </tbody>\n",
       "</table>\n",
       "</div>"
      ],
      "text/plain": [
       "   latitude  longitude  accommodates  bathrooms  bedrooms  beds  \\\n",
       "0  39.51888    2.48182             2        1.0       1.0   1.0   \n",
       "1  39.76347    3.16255             8        3.0       4.0   7.0   \n",
       "2  39.66044    3.07165             6        2.0       3.0   4.0   \n",
       "3  39.61600    3.30121             4        1.0       2.0   4.0   \n",
       "4  39.56478    2.60333             2        1.0       1.0   2.0   \n",
       "\n",
       "   minimum_nights  maximum_nights  \n",
       "0               5              60  \n",
       "1               7            1125  \n",
       "2               6             365  \n",
       "3               5             365  \n",
       "4               2             365  "
      ]
     },
     "execution_count": 26,
     "metadata": {},
     "output_type": "execute_result"
    }
   ],
   "source": [
    "price = numericals.pop('price')\n",
    "numericals.head() # Normalizaremos los datos sin atacar el precio"
   ]
  },
  {
   "cell_type": "markdown",
   "metadata": {},
   "source": [
    "#### Tratamiento de valores NaN:\n",
    "Con el imputer de Sklearn introduciremos la mediana (para ser menos sensibles a los outliers) como el valor para los datos que faltan en el data frame."
   ]
  },
  {
   "cell_type": "code",
   "execution_count": 27,
   "metadata": {},
   "outputs": [
    {
     "data": {
      "text/html": [
       "<div>\n",
       "<style scoped>\n",
       "    .dataframe tbody tr th:only-of-type {\n",
       "        vertical-align: middle;\n",
       "    }\n",
       "\n",
       "    .dataframe tbody tr th {\n",
       "        vertical-align: top;\n",
       "    }\n",
       "\n",
       "    .dataframe thead th {\n",
       "        text-align: right;\n",
       "    }\n",
       "</style>\n",
       "<table border=\"1\" class=\"dataframe\">\n",
       "  <thead>\n",
       "    <tr style=\"text-align: right;\">\n",
       "      <th></th>\n",
       "      <th>latitude</th>\n",
       "      <th>longitude</th>\n",
       "      <th>accommodates</th>\n",
       "      <th>bathrooms</th>\n",
       "      <th>bedrooms</th>\n",
       "      <th>beds</th>\n",
       "      <th>minimum_nights</th>\n",
       "      <th>maximum_nights</th>\n",
       "    </tr>\n",
       "  </thead>\n",
       "  <tbody>\n",
       "    <tr>\n",
       "      <th>count</th>\n",
       "      <td>17608.000000</td>\n",
       "      <td>17608.000000</td>\n",
       "      <td>17608.000000</td>\n",
       "      <td>17608.000000</td>\n",
       "      <td>17608.000000</td>\n",
       "      <td>17608.000000</td>\n",
       "      <td>17608.000000</td>\n",
       "      <td>17608.000000</td>\n",
       "    </tr>\n",
       "    <tr>\n",
       "      <th>mean</th>\n",
       "      <td>39.657597</td>\n",
       "      <td>2.994115</td>\n",
       "      <td>5.857962</td>\n",
       "      <td>2.289897</td>\n",
       "      <td>2.953714</td>\n",
       "      <td>4.355179</td>\n",
       "      <td>4.071842</td>\n",
       "      <td>933.881474</td>\n",
       "    </tr>\n",
       "    <tr>\n",
       "      <th>std</th>\n",
       "      <td>0.165577</td>\n",
       "      <td>0.246129</td>\n",
       "      <td>2.727737</td>\n",
       "      <td>1.362328</td>\n",
       "      <td>1.508524</td>\n",
       "      <td>2.554909</td>\n",
       "      <td>12.552854</td>\n",
       "      <td>402.517515</td>\n",
       "    </tr>\n",
       "    <tr>\n",
       "      <th>min</th>\n",
       "      <td>39.301970</td>\n",
       "      <td>2.346500</td>\n",
       "      <td>0.000000</td>\n",
       "      <td>0.000000</td>\n",
       "      <td>1.000000</td>\n",
       "      <td>0.000000</td>\n",
       "      <td>1.000000</td>\n",
       "      <td>1.000000</td>\n",
       "    </tr>\n",
       "    <tr>\n",
       "      <th>25%</th>\n",
       "      <td>39.543433</td>\n",
       "      <td>2.796892</td>\n",
       "      <td>4.000000</td>\n",
       "      <td>1.000000</td>\n",
       "      <td>2.000000</td>\n",
       "      <td>3.000000</td>\n",
       "      <td>1.000000</td>\n",
       "      <td>1125.000000</td>\n",
       "    </tr>\n",
       "    <tr>\n",
       "      <th>50%</th>\n",
       "      <td>39.670285</td>\n",
       "      <td>3.047310</td>\n",
       "      <td>6.000000</td>\n",
       "      <td>2.000000</td>\n",
       "      <td>3.000000</td>\n",
       "      <td>4.000000</td>\n",
       "      <td>3.000000</td>\n",
       "      <td>1125.000000</td>\n",
       "    </tr>\n",
       "    <tr>\n",
       "      <th>75%</th>\n",
       "      <td>39.797413</td>\n",
       "      <td>3.145215</td>\n",
       "      <td>8.000000</td>\n",
       "      <td>3.000000</td>\n",
       "      <td>4.000000</td>\n",
       "      <td>6.000000</td>\n",
       "      <td>5.000000</td>\n",
       "      <td>1125.000000</td>\n",
       "    </tr>\n",
       "    <tr>\n",
       "      <th>max</th>\n",
       "      <td>39.930650</td>\n",
       "      <td>3.475520</td>\n",
       "      <td>16.000000</td>\n",
       "      <td>32.000000</td>\n",
       "      <td>40.000000</td>\n",
       "      <td>50.000000</td>\n",
       "      <td>1124.000000</td>\n",
       "      <td>3500.000000</td>\n",
       "    </tr>\n",
       "  </tbody>\n",
       "</table>\n",
       "</div>"
      ],
      "text/plain": [
       "           latitude     longitude  accommodates     bathrooms      bedrooms  \\\n",
       "count  17608.000000  17608.000000  17608.000000  17608.000000  17608.000000   \n",
       "mean      39.657597      2.994115      5.857962      2.289897      2.953714   \n",
       "std        0.165577      0.246129      2.727737      1.362328      1.508524   \n",
       "min       39.301970      2.346500      0.000000      0.000000      1.000000   \n",
       "25%       39.543433      2.796892      4.000000      1.000000      2.000000   \n",
       "50%       39.670285      3.047310      6.000000      2.000000      3.000000   \n",
       "75%       39.797413      3.145215      8.000000      3.000000      4.000000   \n",
       "max       39.930650      3.475520     16.000000     32.000000     40.000000   \n",
       "\n",
       "               beds  minimum_nights  maximum_nights  \n",
       "count  17608.000000    17608.000000    17608.000000  \n",
       "mean       4.355179        4.071842      933.881474  \n",
       "std        2.554909       12.552854      402.517515  \n",
       "min        0.000000        1.000000        1.000000  \n",
       "25%        3.000000        1.000000     1125.000000  \n",
       "50%        4.000000        3.000000     1125.000000  \n",
       "75%        6.000000        5.000000     1125.000000  \n",
       "max       50.000000     1124.000000     3500.000000  "
      ]
     },
     "execution_count": 27,
     "metadata": {},
     "output_type": "execute_result"
    }
   ],
   "source": [
    "from sklearn.impute import SimpleImputer\n",
    "numericals_names = numericals.columns\n",
    "median_inputer = SimpleImputer(missing_values=np.nan, strategy='median')\n",
    "numericals = median_inputer.fit_transform(numericals)\n",
    "numericals = pd.DataFrame(numericals, columns = numericals_names)\n",
    "no_scaled_numericals = numericals\n",
    "numericals.describe()"
   ]
  },
  {
   "cell_type": "markdown",
   "metadata": {},
   "source": [
    "#### Normalizaión:"
   ]
  },
  {
   "cell_type": "markdown",
   "metadata": {},
   "source": [
    "Con escalados de los datos menos sensibles a la desviación que sufre la media por la presencia de _outliers_, favorecemos el escalado de los datos sin que afecte tanto al modelo que se generará. Otra posibilidad que ofrece Scikit-Learn es normalizar mediante el `RobustScaler` que se ofrece como una solución adecuada también para conjuntos de datos con bastantes _outliers_."
   ]
  },
  {
   "cell_type": "code",
   "execution_count": 28,
   "metadata": {},
   "outputs": [
    {
     "data": {
      "text/html": [
       "<div>\n",
       "<style scoped>\n",
       "    .dataframe tbody tr th:only-of-type {\n",
       "        vertical-align: middle;\n",
       "    }\n",
       "\n",
       "    .dataframe tbody tr th {\n",
       "        vertical-align: top;\n",
       "    }\n",
       "\n",
       "    .dataframe thead th {\n",
       "        text-align: right;\n",
       "    }\n",
       "</style>\n",
       "<table border=\"1\" class=\"dataframe\">\n",
       "  <thead>\n",
       "    <tr style=\"text-align: right;\">\n",
       "      <th></th>\n",
       "      <th>latitude</th>\n",
       "      <th>longitude</th>\n",
       "      <th>accommodates</th>\n",
       "      <th>bathrooms</th>\n",
       "      <th>bedrooms</th>\n",
       "      <th>beds</th>\n",
       "      <th>minimum_nights</th>\n",
       "      <th>maximum_nights</th>\n",
       "    </tr>\n",
       "  </thead>\n",
       "  <tbody>\n",
       "    <tr>\n",
       "      <th>count</th>\n",
       "      <td>17608.000000</td>\n",
       "      <td>17608.000000</td>\n",
       "      <td>17608.000000</td>\n",
       "      <td>17608.000000</td>\n",
       "      <td>17608.000000</td>\n",
       "      <td>17608.000000</td>\n",
       "      <td>17608.000000</td>\n",
       "      <td>17608.000000</td>\n",
       "    </tr>\n",
       "    <tr>\n",
       "      <th>mean</th>\n",
       "      <td>0.565672</td>\n",
       "      <td>0.573608</td>\n",
       "      <td>0.366123</td>\n",
       "      <td>0.071559</td>\n",
       "      <td>0.050095</td>\n",
       "      <td>0.087104</td>\n",
       "      <td>0.002735</td>\n",
       "      <td>0.266614</td>\n",
       "    </tr>\n",
       "    <tr>\n",
       "      <th>std</th>\n",
       "      <td>0.263373</td>\n",
       "      <td>0.218003</td>\n",
       "      <td>0.170484</td>\n",
       "      <td>0.042573</td>\n",
       "      <td>0.038680</td>\n",
       "      <td>0.051098</td>\n",
       "      <td>0.011178</td>\n",
       "      <td>0.115038</td>\n",
       "    </tr>\n",
       "    <tr>\n",
       "      <th>min</th>\n",
       "      <td>0.000000</td>\n",
       "      <td>0.000000</td>\n",
       "      <td>0.000000</td>\n",
       "      <td>0.000000</td>\n",
       "      <td>0.000000</td>\n",
       "      <td>0.000000</td>\n",
       "      <td>0.000000</td>\n",
       "      <td>0.000000</td>\n",
       "    </tr>\n",
       "    <tr>\n",
       "      <th>25%</th>\n",
       "      <td>0.384079</td>\n",
       "      <td>0.398923</td>\n",
       "      <td>0.250000</td>\n",
       "      <td>0.031250</td>\n",
       "      <td>0.025641</td>\n",
       "      <td>0.060000</td>\n",
       "      <td>0.000000</td>\n",
       "      <td>0.321235</td>\n",
       "    </tr>\n",
       "    <tr>\n",
       "      <th>50%</th>\n",
       "      <td>0.585854</td>\n",
       "      <td>0.620724</td>\n",
       "      <td>0.375000</td>\n",
       "      <td>0.062500</td>\n",
       "      <td>0.051282</td>\n",
       "      <td>0.080000</td>\n",
       "      <td>0.001781</td>\n",
       "      <td>0.321235</td>\n",
       "    </tr>\n",
       "    <tr>\n",
       "      <th>75%</th>\n",
       "      <td>0.788068</td>\n",
       "      <td>0.707441</td>\n",
       "      <td>0.500000</td>\n",
       "      <td>0.093750</td>\n",
       "      <td>0.076923</td>\n",
       "      <td>0.120000</td>\n",
       "      <td>0.003562</td>\n",
       "      <td>0.321235</td>\n",
       "    </tr>\n",
       "    <tr>\n",
       "      <th>max</th>\n",
       "      <td>1.000000</td>\n",
       "      <td>1.000000</td>\n",
       "      <td>1.000000</td>\n",
       "      <td>1.000000</td>\n",
       "      <td>1.000000</td>\n",
       "      <td>1.000000</td>\n",
       "      <td>1.000000</td>\n",
       "      <td>1.000000</td>\n",
       "    </tr>\n",
       "  </tbody>\n",
       "</table>\n",
       "</div>"
      ],
      "text/plain": [
       "           latitude     longitude  accommodates     bathrooms      bedrooms  \\\n",
       "count  17608.000000  17608.000000  17608.000000  17608.000000  17608.000000   \n",
       "mean       0.565672      0.573608      0.366123      0.071559      0.050095   \n",
       "std        0.263373      0.218003      0.170484      0.042573      0.038680   \n",
       "min        0.000000      0.000000      0.000000      0.000000      0.000000   \n",
       "25%        0.384079      0.398923      0.250000      0.031250      0.025641   \n",
       "50%        0.585854      0.620724      0.375000      0.062500      0.051282   \n",
       "75%        0.788068      0.707441      0.500000      0.093750      0.076923   \n",
       "max        1.000000      1.000000      1.000000      1.000000      1.000000   \n",
       "\n",
       "               beds  minimum_nights  maximum_nights  \n",
       "count  17608.000000    17608.000000    17608.000000  \n",
       "mean       0.087104        0.002735        0.266614  \n",
       "std        0.051098        0.011178        0.115038  \n",
       "min        0.000000        0.000000        0.000000  \n",
       "25%        0.060000        0.000000        0.321235  \n",
       "50%        0.080000        0.001781        0.321235  \n",
       "75%        0.120000        0.003562        0.321235  \n",
       "max        1.000000        1.000000        1.000000  "
      ]
     },
     "execution_count": 28,
     "metadata": {},
     "output_type": "execute_result"
    }
   ],
   "source": [
    "from sklearn.preprocessing import MinMaxScaler\n",
    "scaler = MinMaxScaler()\n",
    "numericals = scaler.fit_transform(numericals)\n",
    "numericals = pd.DataFrame(numericals, columns = numericals_names)\n",
    "numericals.describe()"
   ]
  },
  {
   "cell_type": "markdown",
   "metadata": {},
   "source": [
    "### 2.4.3. Recombinamos los dataframes (numericals y prop_type)"
   ]
  },
  {
   "cell_type": "code",
   "execution_count": 29,
   "metadata": {},
   "outputs": [
    {
     "data": {
      "text/html": [
       "<div>\n",
       "<style scoped>\n",
       "    .dataframe tbody tr th:only-of-type {\n",
       "        vertical-align: middle;\n",
       "    }\n",
       "\n",
       "    .dataframe tbody tr th {\n",
       "        vertical-align: top;\n",
       "    }\n",
       "\n",
       "    .dataframe thead th {\n",
       "        text-align: right;\n",
       "    }\n",
       "</style>\n",
       "<table border=\"1\" class=\"dataframe\">\n",
       "  <thead>\n",
       "    <tr style=\"text-align: right;\">\n",
       "      <th></th>\n",
       "      <th>entire_room</th>\n",
       "      <th>private_shared</th>\n",
       "      <th>business</th>\n",
       "      <th>uncommon</th>\n",
       "      <th>latitude</th>\n",
       "      <th>longitude</th>\n",
       "      <th>accommodates</th>\n",
       "      <th>bathrooms</th>\n",
       "      <th>bedrooms</th>\n",
       "      <th>beds</th>\n",
       "      <th>minimum_nights</th>\n",
       "      <th>maximum_nights</th>\n",
       "    </tr>\n",
       "  </thead>\n",
       "  <tbody>\n",
       "    <tr>\n",
       "      <th>count</th>\n",
       "      <td>17608.000000</td>\n",
       "      <td>17608.000000</td>\n",
       "      <td>17608.000000</td>\n",
       "      <td>17608.0</td>\n",
       "      <td>17608.000000</td>\n",
       "      <td>17608.000000</td>\n",
       "      <td>17608.000000</td>\n",
       "      <td>17608.000000</td>\n",
       "      <td>17608.000000</td>\n",
       "      <td>17608.000000</td>\n",
       "      <td>17608.000000</td>\n",
       "      <td>17608.000000</td>\n",
       "    </tr>\n",
       "    <tr>\n",
       "      <th>mean</th>\n",
       "      <td>0.817356</td>\n",
       "      <td>0.102226</td>\n",
       "      <td>0.902715</td>\n",
       "      <td>0.0</td>\n",
       "      <td>0.565672</td>\n",
       "      <td>0.573608</td>\n",
       "      <td>0.366123</td>\n",
       "      <td>0.071559</td>\n",
       "      <td>0.050095</td>\n",
       "      <td>0.087104</td>\n",
       "      <td>0.002735</td>\n",
       "      <td>0.266614</td>\n",
       "    </tr>\n",
       "    <tr>\n",
       "      <th>std</th>\n",
       "      <td>0.576150</td>\n",
       "      <td>0.306496</td>\n",
       "      <td>0.672984</td>\n",
       "      <td>0.0</td>\n",
       "      <td>0.263373</td>\n",
       "      <td>0.218003</td>\n",
       "      <td>0.170484</td>\n",
       "      <td>0.042573</td>\n",
       "      <td>0.038680</td>\n",
       "      <td>0.051098</td>\n",
       "      <td>0.011178</td>\n",
       "      <td>0.115038</td>\n",
       "    </tr>\n",
       "    <tr>\n",
       "      <th>min</th>\n",
       "      <td>-1.000000</td>\n",
       "      <td>-1.000000</td>\n",
       "      <td>-3.000000</td>\n",
       "      <td>0.0</td>\n",
       "      <td>0.000000</td>\n",
       "      <td>0.000000</td>\n",
       "      <td>0.000000</td>\n",
       "      <td>0.000000</td>\n",
       "      <td>0.000000</td>\n",
       "      <td>0.000000</td>\n",
       "      <td>0.000000</td>\n",
       "      <td>0.000000</td>\n",
       "    </tr>\n",
       "    <tr>\n",
       "      <th>25%</th>\n",
       "      <td>1.000000</td>\n",
       "      <td>0.000000</td>\n",
       "      <td>1.000000</td>\n",
       "      <td>0.0</td>\n",
       "      <td>0.384079</td>\n",
       "      <td>0.398923</td>\n",
       "      <td>0.250000</td>\n",
       "      <td>0.031250</td>\n",
       "      <td>0.025641</td>\n",
       "      <td>0.060000</td>\n",
       "      <td>0.000000</td>\n",
       "      <td>0.321235</td>\n",
       "    </tr>\n",
       "    <tr>\n",
       "      <th>50%</th>\n",
       "      <td>1.000000</td>\n",
       "      <td>0.000000</td>\n",
       "      <td>1.000000</td>\n",
       "      <td>0.0</td>\n",
       "      <td>0.585854</td>\n",
       "      <td>0.620724</td>\n",
       "      <td>0.375000</td>\n",
       "      <td>0.062500</td>\n",
       "      <td>0.051282</td>\n",
       "      <td>0.080000</td>\n",
       "      <td>0.001781</td>\n",
       "      <td>0.321235</td>\n",
       "    </tr>\n",
       "    <tr>\n",
       "      <th>75%</th>\n",
       "      <td>1.000000</td>\n",
       "      <td>0.000000</td>\n",
       "      <td>1.000000</td>\n",
       "      <td>0.0</td>\n",
       "      <td>0.788068</td>\n",
       "      <td>0.707441</td>\n",
       "      <td>0.500000</td>\n",
       "      <td>0.093750</td>\n",
       "      <td>0.076923</td>\n",
       "      <td>0.120000</td>\n",
       "      <td>0.003562</td>\n",
       "      <td>0.321235</td>\n",
       "    </tr>\n",
       "    <tr>\n",
       "      <th>max</th>\n",
       "      <td>1.000000</td>\n",
       "      <td>1.000000</td>\n",
       "      <td>3.000000</td>\n",
       "      <td>0.0</td>\n",
       "      <td>1.000000</td>\n",
       "      <td>1.000000</td>\n",
       "      <td>1.000000</td>\n",
       "      <td>1.000000</td>\n",
       "      <td>1.000000</td>\n",
       "      <td>1.000000</td>\n",
       "      <td>1.000000</td>\n",
       "      <td>1.000000</td>\n",
       "    </tr>\n",
       "  </tbody>\n",
       "</table>\n",
       "</div>"
      ],
      "text/plain": [
       "        entire_room  private_shared      business  uncommon      latitude  \\\n",
       "count  17608.000000    17608.000000  17608.000000   17608.0  17608.000000   \n",
       "mean       0.817356        0.102226      0.902715       0.0      0.565672   \n",
       "std        0.576150        0.306496      0.672984       0.0      0.263373   \n",
       "min       -1.000000       -1.000000     -3.000000       0.0      0.000000   \n",
       "25%        1.000000        0.000000      1.000000       0.0      0.384079   \n",
       "50%        1.000000        0.000000      1.000000       0.0      0.585854   \n",
       "75%        1.000000        0.000000      1.000000       0.0      0.788068   \n",
       "max        1.000000        1.000000      3.000000       0.0      1.000000   \n",
       "\n",
       "          longitude  accommodates     bathrooms      bedrooms          beds  \\\n",
       "count  17608.000000  17608.000000  17608.000000  17608.000000  17608.000000   \n",
       "mean       0.573608      0.366123      0.071559      0.050095      0.087104   \n",
       "std        0.218003      0.170484      0.042573      0.038680      0.051098   \n",
       "min        0.000000      0.000000      0.000000      0.000000      0.000000   \n",
       "25%        0.398923      0.250000      0.031250      0.025641      0.060000   \n",
       "50%        0.620724      0.375000      0.062500      0.051282      0.080000   \n",
       "75%        0.707441      0.500000      0.093750      0.076923      0.120000   \n",
       "max        1.000000      1.000000      1.000000      1.000000      1.000000   \n",
       "\n",
       "       minimum_nights  maximum_nights  \n",
       "count    17608.000000    17608.000000  \n",
       "mean         0.002735        0.266614  \n",
       "std          0.011178        0.115038  \n",
       "min          0.000000        0.000000  \n",
       "25%          0.000000        0.321235  \n",
       "50%          0.001781        0.321235  \n",
       "75%          0.003562        0.321235  \n",
       "max          1.000000        1.000000  "
      ]
     },
     "execution_count": 29,
     "metadata": {},
     "output_type": "execute_result"
    }
   ],
   "source": [
    "adj_df = pd.concat([prop_type, numericals], axis = 1) # Después de normalizar dejamos el precio al final del dataframe\n",
    "adj_df.describe()"
   ]
  },
  {
   "cell_type": "markdown",
   "metadata": {},
   "source": [
    "El data frame ha quedado con la columna objetivo a predecir al final y con todas las columnas consideradas relevantes para el primer modelo. Una de las propuestas para reducir la dimensionalidad es cambiar el tipo de coordenadas latitud-longitud a un ángulo y un radio al centro de la isla, incluso solo emplear el radio a modo de cercanía al mar.\n",
    "\n",
    "**Todas las columnas tienen el mismos número de observaciones sin nulos y los datos normalizados y en un formato numérico.**"
   ]
  },
  {
   "cell_type": "markdown",
   "metadata": {},
   "source": [
    "Dado que la columna `uncommon` queda completa de ceros, se elimina ya que de la codificación que se ha empleado no se saca ningún valor totalmente atípico."
   ]
  },
  {
   "cell_type": "code",
   "execution_count": 30,
   "metadata": {},
   "outputs": [
    {
     "data": {
      "text/plain": [
       "0        0.0\n",
       "1        0.0\n",
       "2        0.0\n",
       "3        0.0\n",
       "4        0.0\n",
       "        ... \n",
       "17603    0.0\n",
       "17604    0.0\n",
       "17605    0.0\n",
       "17606    0.0\n",
       "17607    0.0\n",
       "Name: uncommon, Length: 17608, dtype: float64"
      ]
     },
     "execution_count": 30,
     "metadata": {},
     "output_type": "execute_result"
    }
   ],
   "source": [
    "adj_df.pop('uncommon')"
   ]
  },
  {
   "cell_type": "markdown",
   "metadata": {},
   "source": [
    "## 2.5. Colinealidad de los datos: Principal Component Analysis\n",
    "Mediante un método de reducción de dimensionalidad como es PCA, se puede observar qué características del dataframe ajustado (`adj_df`) tras el tratamiento previo de los datos tienen una mayor explicabilidad de la variable `price` a estimar."
   ]
  },
  {
   "cell_type": "code",
   "execution_count": 31,
   "metadata": {},
   "outputs": [],
   "source": [
    "from sklearn.decomposition import PCA"
   ]
  },
  {
   "cell_type": "code",
   "execution_count": 32,
   "metadata": {},
   "outputs": [],
   "source": [
    "pca = PCA(n_components = 2)\n",
    "pca_data = pca.fit_transform(adj_df);"
   ]
  },
  {
   "cell_type": "markdown",
   "metadata": {},
   "source": [
    "Reduciendo el espacio de variables a dos podemos ver como quedan las dos componentes principales:"
   ]
  },
  {
   "cell_type": "code",
   "execution_count": 33,
   "metadata": {},
   "outputs": [],
   "source": [
    "pca_data_df = pd.DataFrame(pca_data, columns=['first_comp', 'second_comp'])\n",
    "pca_data_df = pd.concat([pca_data_df, price], axis = 1)"
   ]
  },
  {
   "cell_type": "code",
   "execution_count": 34,
   "metadata": {},
   "outputs": [
    {
     "data": {
      "text/plain": [
       "<matplotlib.axes._subplots.AxesSubplot at 0x1d480883fd0>"
      ]
     },
     "execution_count": 34,
     "metadata": {},
     "output_type": "execute_result"
    },
    {
     "data": {
      "image/png": "[encoded data removed]",
      "text/plain": [
       "<Figure size 432x288 with 1 Axes>"
      ]
     },
     "metadata": {
      "needs_background": "light"
     },
     "output_type": "display_data"
    }
   ],
   "source": [
    "sns.scatterplot(data=pca_data_df, x='first_comp', y='second_comp')"
   ]
  },
  {
   "cell_type": "markdown",
   "metadata": {},
   "source": [
    "## 2.6. Gráficas cruzadas"
   ]
  },
  {
   "cell_type": "code",
   "execution_count": 35,
   "metadata": {},
   "outputs": [
    {
     "data": {
      "image/png": "[encoded data removed]",
      "text/plain": [
       "<Figure size 900x900 with 20 Axes>"
      ]
     },
     "metadata": {
      "needs_background": "light"
     },
     "output_type": "display_data"
    }
   ],
   "source": [
    "plot_df = adj_df[['accommodates', 'bathrooms', 'bedrooms', 'beds', 'minimum_nights']]\n",
    "sns.pairplot(data=plot_df, corner=True, diag_kind=\"hist\")\n",
    "del plot_df"
   ]
  },
  {
   "cell_type": "markdown",
   "metadata": {},
   "source": [
    "#### Comentario acerca del _pairplot_\n",
    "\n",
    "No se puede graficar destacando el precio, aún así puede verse la colinealidad de algunas de las variables a priori. Las más relacionadas entre sí son habitaciones (_bedrooms_), baños (_bathrooms_) y camas (_beds_).\n",
    "\n",
    "Por otro lado, con las otras variables no se observa una relación muy evidente. Destaca la existencia de algunos puntos atípicos que hacen las visualizaciones algo más complicadas."
   ]
  },
  {
   "cell_type": "markdown",
   "metadata": {},
   "source": [
    "##  2.7. Algunas gráficas para observar posibles relaciones con el precio."
   ]
  },
  {
   "cell_type": "code",
   "execution_count": 36,
   "metadata": {},
   "outputs": [],
   "source": [
    "cols = adj_df.columns\n",
    "cols = cols.drop(['bathrooms', 'bedrooms'])"
   ]
  },
  {
   "cell_type": "code",
   "execution_count": 37,
   "metadata": {},
   "outputs": [
    {
     "data": {
      "image/png": "[encoded data removed]",
      "text/plain": [
       "<Figure size 1440x1440 with 9 Axes>"
      ]
     },
     "metadata": {
      "needs_background": "light"
     },
     "output_type": "display_data"
    }
   ],
   "source": [
    "fig, axs = plt.subplots(3,3, figsize=(20,20))\n",
    "y = np.array(price)\n",
    "for i in range(3):\n",
    "    for j in range(3):\n",
    "        x = np.array(adj_df[ cols[i*3 + j] ])\n",
    "        axs[i,j].scatter(x, y)\n",
    "        axs[i,j].set_title(cols[3*i + j])"
   ]
  },
  {
   "cell_type": "markdown",
   "metadata": {},
   "source": [
    "# 3. Selección de métricas y modelos.\n",
    "Dado que la variable a predecir es un valor contínuo lo podemos relacionar de manera intuitiva a modelos de predicción o estimación de regresión. Para ello emplearemos un modelo de base sencillo para marcar una referencia. Este será una regresión lineal sobre el conjunto de datos de `basic_df`, que es el conjunto de datos original con los filtros y los arreglos previos a la reducción de dimensionalidad. Se esperaría que este fuera algo más ruidoso con lo que el _score_ de la métrica será peor. Se plantean mejoras del modelo como el uso de las componentes de la PCA con otra regresión lienal.\n",
    "\n",
    "Para evaluar el modelo en cada caso se establecerá una evaluación mediante una **validación cuzada** sobre una métrica.\n",
    "- Métrica escogida: **Mean Absolute Error (MAE)**.\n",
    "\n",
    "Esta métrica aparece referenciada como más robusta ante las diferencias entre valores que provocan los valores atípicos ya que no se eleva al cuadrado. Se podría emplear también el _scorer_ RMSE (Root-Mean-Squared Error)."
   ]
  },
  {
   "cell_type": "markdown",
   "metadata": {},
   "source": [
    "## 3.1. División entre datos de entrenamiento y de test:\n",
    "De forma algo arbitraria se elige un tamaño razonable de datos de test (20%) con el que realizar las evaluaciones finales de los modelos."
   ]
  },
  {
   "cell_type": "code",
   "execution_count": 38,
   "metadata": {},
   "outputs": [],
   "source": [
    "from sklearn.model_selection import train_test_split\n",
    "test_size = 0.2\n",
    "X_train, X_test, y_train, y_test = train_test_split(adj_df, price, test_size=test_size, random_state=42)"
   ]
  },
  {
   "cell_type": "markdown",
   "metadata": {},
   "source": [
    "Realizamos la misma operación sobre los datos transformados por el PCA:"
   ]
  },
  {
   "cell_type": "code",
   "execution_count": 39,
   "metadata": {},
   "outputs": [],
   "source": [
    "X_train_pca, X_test_pca, y_train_pca, y_test_pca = train_test_split(pca_data_df[['first_comp', 'second_comp']], pca_data_df[['price']], test_size=test_size, random_state=42)"
   ]
  },
  {
   "cell_type": "markdown",
   "metadata": {},
   "source": [
    "## 3.2. _Scorer_ MAE:"
   ]
  },
  {
   "cell_type": "code",
   "execution_count": 40,
   "metadata": {},
   "outputs": [],
   "source": [
    "from sklearn.metrics import make_scorer\n",
    "from sklearn.metrics import mean_absolute_error as MAE\n",
    "    \n",
    "mae_scorer = make_scorer(MAE, greater_is_better=False)"
   ]
  },
  {
   "cell_type": "markdown",
   "metadata": {},
   "source": [
    "# 4. Definición de los diferentes modelos."
   ]
  },
  {
   "cell_type": "code",
   "execution_count": 41,
   "metadata": {},
   "outputs": [],
   "source": [
    "# Importamos los modelos de scikit-learn\n",
    "from sklearn.linear_model import LinearRegression"
   ]
  },
  {
   "cell_type": "markdown",
   "metadata": {},
   "source": [
    "### 4.1. Modelo base:\n",
    "Definimos aquí la regresión lineal que sirve de base para evaluar los diferentes modelos más sofisticados para dar dotar la resolución del problema de un _common ground_ y poder comparar con mejor perspectiva sobre una aproximación más básica."
   ]
  },
  {
   "cell_type": "code",
   "execution_count": 42,
   "metadata": {},
   "outputs": [
    {
     "data": {
      "text/plain": [
       "LinearRegression()"
      ]
     },
     "execution_count": 42,
     "metadata": {},
     "output_type": "execute_result"
    }
   ],
   "source": [
    "base_model = LinearRegression()\n",
    "base_model.fit(X_train, y_train)"
   ]
  },
  {
   "cell_type": "markdown",
   "metadata": {},
   "source": [
    "### 4.2. Regresión lineal sobre PCA:"
   ]
  },
  {
   "cell_type": "code",
   "execution_count": 43,
   "metadata": {},
   "outputs": [
    {
     "data": {
      "text/plain": [
       "LinearRegression()"
      ]
     },
     "execution_count": 43,
     "metadata": {},
     "output_type": "execute_result"
    }
   ],
   "source": [
    "pca_linear_reg = LinearRegression()\n",
    "pca_linear_reg.fit(X_train_pca, y_train_pca)"
   ]
  },
  {
   "cell_type": "markdown",
   "metadata": {},
   "source": [
    "# 5. Validación y test de los modelos."
   ]
  },
  {
   "cell_type": "markdown",
   "metadata": {},
   "source": [
    "### 5.1. Validación cruzada sobre los datos de entrenamiento:"
   ]
  },
  {
   "cell_type": "code",
   "execution_count": 44,
   "metadata": {},
   "outputs": [
    {
     "name": "stdout",
     "output_type": "stream",
     "text": [
      "Media del error absoluto medio (base, train): 113.39722442919314 +- 3.222029703531161\n"
     ]
    }
   ],
   "source": [
    "from sklearn.model_selection import cross_val_score\n",
    "scores_base = -cross_val_score(estimator=base_model, X=X_train, y=y_train, cv=5, scoring=mae_scorer)\n",
    "\n",
    "print(f\"Media del error absoluto medio (base, train): {scores_base.mean()} +- {scores_base.std()}\")"
   ]
  },
  {
   "cell_type": "markdown",
   "metadata": {},
   "source": [
    "---\n",
    "> #### Media del error absoluto medio (base, train): 113.3 +- 3.2\n",
    "---"
   ]
  },
  {
   "cell_type": "code",
   "execution_count": 45,
   "metadata": {},
   "outputs": [
    {
     "name": "stdout",
     "output_type": "stream",
     "text": [
      "Media del error absoluto medio (PCA, train): 142.0717491894576 +- 4.932458512912889\n"
     ]
    }
   ],
   "source": [
    "scores_pca = -cross_val_score(estimator=pca_linear_reg, X=X_train_pca, y=y_train_pca, cv=5, scoring=mae_scorer)\n",
    "print(f\"Media del error absoluto medio (PCA, train): {scores_pca.mean()} +- {scores_pca.std()}\")"
   ]
  },
  {
   "cell_type": "markdown",
   "metadata": {},
   "source": [
    "---\n",
    "> #### Media del error absoluto medio (PCA, train): 141.9 +- 4.9\n",
    "---"
   ]
  },
  {
   "cell_type": "markdown",
   "metadata": {},
   "source": [
    "### 5.2. Evaluación sobre los datos de test:"
   ]
  },
  {
   "cell_type": "code",
   "execution_count": 46,
   "metadata": {},
   "outputs": [
    {
     "name": "stdout",
     "output_type": "stream",
     "text": [
      "Error absoluto medio (base, test): 117.53075986123119 \n",
      "Error absoluto medio (PCA, test): 146.3179114183328\n"
     ]
    }
   ],
   "source": [
    "mae_base = MAE(y_test, base_model.predict(X_test))\n",
    "mae_pca =  MAE(y_test_pca, pca_linear_reg.predict(X_test_pca))\n",
    "print(f\"Error absoluto medio (base, test): {mae_base} \\nError absoluto medio (PCA, test): {mae_pca}\")"
   ]
  },
  {
   "cell_type": "markdown",
   "metadata": {},
   "source": [
    "### 5.3. Primer comentario sobre el modelo:\n",
    "---\n",
    "> #### El arreglo de los datos mediante la PCA no tiene ningún efecto positivo, provoca un aumento de la influencia del ruido y con ello producir una estimación de menor calidad.\n",
    "---"
   ]
  },
  {
   "cell_type": "markdown",
   "metadata": {},
   "source": [
    "# 6. Mejoras del modelo.\n",
    "**OUTLIERS**:\n",
    "Si se representan los datos del dataframe `adj_df`, con todas las características no observaríamos ninguna tendencia clara\n",
    "Buscamos el centro de la isla, empleando los valores medios de cada columna del data frame. Luego calculamos la distancia euclídea, que no es físicamente exacta, pero en el rango de valores que empleamos el error no es relevante."
   ]
  },
  {
   "cell_type": "markdown",
   "metadata": {},
   "source": [
    "## 6.1. Eliminamos los puntos outliers, así reducimos el ruido del dataset.\n",
    "¿En qué _features_ se observaban la mayoría de outliers?\n",
    "\n",
    "Eliminaremos aquellos que se encuentren 2 desviaciones típicas por encima de los valores medios de las _features_:\n",
    "- Accommodates\n",
    "- Bathrooms\n",
    "- Bedrooms\n",
    "- Beds\n",
    "- Minimum nights\n",
    "- Maximum nights\n",
    "\n",
    "Las otras características son o derivadas de categorías no numéricas y por tanto no tienen la misma naturaleza con lo que no se descartan observaciones de esta forma, o pueden ser las variables de longitud y latitud con las que se sitúa el habitaje."
   ]
  },
  {
   "cell_type": "code",
   "execution_count": 47,
   "metadata": {},
   "outputs": [
    {
     "data": {
      "text/plain": [
       "16106"
      ]
     },
     "execution_count": 47,
     "metadata": {},
     "output_type": "execute_result"
    }
   ],
   "source": [
    "acc_mean = adj_df['accommodates'].mean()\n",
    "acc_std = adj_df['accommodates'].std()\n",
    "acc_mask = adj_df['accommodates'] < (acc_mean + 2*acc_std)\n",
    "\n",
    "bath_mean = adj_df['bathrooms'].mean()\n",
    "bath_std = adj_df['bathrooms'].std()\n",
    "bath_mask = adj_df['bathrooms'] < (bath_mean + 2*bath_std)\n",
    "\n",
    "bedr_mean = adj_df['bedrooms'].mean()\n",
    "bedr_std = adj_df['bedrooms'].std()\n",
    "bedr_mask = adj_df['bedrooms'] < (bedr_mean + 2*bedr_std)\n",
    "\n",
    "beds_mean = adj_df['beds'].mean()\n",
    "beds_std = adj_df['beds'].std()\n",
    "beds_mask = adj_df['beds'] < (beds_mean + 2*beds_std)\n",
    "\n",
    "max_mean = adj_df['maximum_nights'].mean()\n",
    "max_std = adj_df['maximum_nights'].std()\n",
    "max_mask = adj_df['maximum_nights'] < (max_mean + 2*max_std)\n",
    "\n",
    "min_mean = adj_df['minimum_nights'].mean()\n",
    "min_std = adj_df['minimum_nights'].std()\n",
    "min_mask = adj_df['minimum_nights'] < (min_mean + 2*min_std)\n",
    "\n",
    "price_mean = price.mean()\n",
    "price_std = price.std()\n",
    "price_mask = price < (price_mean + 2*price_std)\n",
    "\n",
    "mask = acc_mask & bath_mask & bedr_mask & beds_mask & min_mask & max_mask & price_mask\n",
    "sum(mask)"
   ]
  },
  {
   "cell_type": "markdown",
   "metadata": {},
   "source": [
    "Observamos que el número total de observaciones pasará a ser 16106 observaciones en lugar de las más de 17000 originales."
   ]
  },
  {
   "cell_type": "markdown",
   "metadata": {},
   "source": [
    "## 6.2. Reescalamos los datos sobre la fracción resultante del data frames."
   ]
  },
  {
   "cell_type": "code",
   "execution_count": 48,
   "metadata": {},
   "outputs": [],
   "source": [
    "prop_type = prop_type[mask]\n",
    "prop_type.pop('uncommon')\n",
    "numericals = no_scaled_numericals[mask]\n",
    "price = price[mask]"
   ]
  },
  {
   "cell_type": "markdown",
   "metadata": {},
   "source": [
    "Nuevo reescalado de las variables numéricas:"
   ]
  },
  {
   "cell_type": "code",
   "execution_count": 49,
   "metadata": {},
   "outputs": [
    {
     "data": {
      "text/html": [
       "<div>\n",
       "<style scoped>\n",
       "    .dataframe tbody tr th:only-of-type {\n",
       "        vertical-align: middle;\n",
       "    }\n",
       "\n",
       "    .dataframe tbody tr th {\n",
       "        vertical-align: top;\n",
       "    }\n",
       "\n",
       "    .dataframe thead th {\n",
       "        text-align: right;\n",
       "    }\n",
       "</style>\n",
       "<table border=\"1\" class=\"dataframe\">\n",
       "  <thead>\n",
       "    <tr style=\"text-align: right;\">\n",
       "      <th></th>\n",
       "      <th>latitude</th>\n",
       "      <th>longitude</th>\n",
       "      <th>accommodates</th>\n",
       "      <th>bathrooms</th>\n",
       "      <th>bedrooms</th>\n",
       "      <th>beds</th>\n",
       "      <th>minimum_nights</th>\n",
       "      <th>maximum_nights</th>\n",
       "    </tr>\n",
       "  </thead>\n",
       "  <tbody>\n",
       "    <tr>\n",
       "      <th>count</th>\n",
       "      <td>16106.000000</td>\n",
       "      <td>16106.000000</td>\n",
       "      <td>16106.000000</td>\n",
       "      <td>16106.000000</td>\n",
       "      <td>16106.000000</td>\n",
       "      <td>16106.000000</td>\n",
       "      <td>16106.000000</td>\n",
       "      <td>16106.000000</td>\n",
       "    </tr>\n",
       "    <tr>\n",
       "      <th>mean</th>\n",
       "      <td>0.570184</td>\n",
       "      <td>0.578629</td>\n",
       "      <td>0.493543</td>\n",
       "      <td>0.413523</td>\n",
       "      <td>0.430771</td>\n",
       "      <td>0.442851</td>\n",
       "      <td>0.088838</td>\n",
       "      <td>0.829372</td>\n",
       "    </tr>\n",
       "    <tr>\n",
       "      <th>std</th>\n",
       "      <td>0.265309</td>\n",
       "      <td>0.215600</td>\n",
       "      <td>0.202579</td>\n",
       "      <td>0.197371</td>\n",
       "      <td>0.287487</td>\n",
       "      <td>0.218657</td>\n",
       "      <td>0.088290</td>\n",
       "      <td>0.358764</td>\n",
       "    </tr>\n",
       "    <tr>\n",
       "      <th>min</th>\n",
       "      <td>0.000000</td>\n",
       "      <td>0.000000</td>\n",
       "      <td>0.000000</td>\n",
       "      <td>0.000000</td>\n",
       "      <td>0.000000</td>\n",
       "      <td>0.000000</td>\n",
       "      <td>0.000000</td>\n",
       "      <td>0.000000</td>\n",
       "    </tr>\n",
       "    <tr>\n",
       "      <th>25%</th>\n",
       "      <td>0.391447</td>\n",
       "      <td>0.434596</td>\n",
       "      <td>0.363636</td>\n",
       "      <td>0.200000</td>\n",
       "      <td>0.250000</td>\n",
       "      <td>0.333333</td>\n",
       "      <td>0.000000</td>\n",
       "      <td>1.000000</td>\n",
       "    </tr>\n",
       "    <tr>\n",
       "      <th>50%</th>\n",
       "      <td>0.600345</td>\n",
       "      <td>0.624085</td>\n",
       "      <td>0.545455</td>\n",
       "      <td>0.400000</td>\n",
       "      <td>0.500000</td>\n",
       "      <td>0.444444</td>\n",
       "      <td>0.071429</td>\n",
       "      <td>1.000000</td>\n",
       "    </tr>\n",
       "    <tr>\n",
       "      <th>75%</th>\n",
       "      <td>0.796204</td>\n",
       "      <td>0.708785</td>\n",
       "      <td>0.636364</td>\n",
       "      <td>0.600000</td>\n",
       "      <td>0.750000</td>\n",
       "      <td>0.555556</td>\n",
       "      <td>0.142857</td>\n",
       "      <td>1.000000</td>\n",
       "    </tr>\n",
       "    <tr>\n",
       "      <th>max</th>\n",
       "      <td>1.000000</td>\n",
       "      <td>1.000000</td>\n",
       "      <td>1.000000</td>\n",
       "      <td>1.000000</td>\n",
       "      <td>1.000000</td>\n",
       "      <td>1.000000</td>\n",
       "      <td>1.000000</td>\n",
       "      <td>1.000000</td>\n",
       "    </tr>\n",
       "  </tbody>\n",
       "</table>\n",
       "</div>"
      ],
      "text/plain": [
       "           latitude     longitude  accommodates     bathrooms      bedrooms  \\\n",
       "count  16106.000000  16106.000000  16106.000000  16106.000000  16106.000000   \n",
       "mean       0.570184      0.578629      0.493543      0.413523      0.430771   \n",
       "std        0.265309      0.215600      0.202579      0.197371      0.287487   \n",
       "min        0.000000      0.000000      0.000000      0.000000      0.000000   \n",
       "25%        0.391447      0.434596      0.363636      0.200000      0.250000   \n",
       "50%        0.600345      0.624085      0.545455      0.400000      0.500000   \n",
       "75%        0.796204      0.708785      0.636364      0.600000      0.750000   \n",
       "max        1.000000      1.000000      1.000000      1.000000      1.000000   \n",
       "\n",
       "               beds  minimum_nights  maximum_nights  \n",
       "count  16106.000000    16106.000000    16106.000000  \n",
       "mean       0.442851        0.088838        0.829372  \n",
       "std        0.218657        0.088290        0.358764  \n",
       "min        0.000000        0.000000        0.000000  \n",
       "25%        0.333333        0.000000        1.000000  \n",
       "50%        0.444444        0.071429        1.000000  \n",
       "75%        0.555556        0.142857        1.000000  \n",
       "max        1.000000        1.000000        1.000000  "
      ]
     },
     "execution_count": 49,
     "metadata": {},
     "output_type": "execute_result"
    }
   ],
   "source": [
    "numericals = scaler.fit_transform(numericals)\n",
    "numericals = pd.DataFrame(numericals, columns = numericals_names)\n",
    "numericals.describe()"
   ]
  },
  {
   "cell_type": "code",
   "execution_count": 50,
   "metadata": {},
   "outputs": [
    {
     "data": {
      "text/html": [
       "<div>\n",
       "<style scoped>\n",
       "    .dataframe tbody tr th:only-of-type {\n",
       "        vertical-align: middle;\n",
       "    }\n",
       "\n",
       "    .dataframe tbody tr th {\n",
       "        vertical-align: top;\n",
       "    }\n",
       "\n",
       "    .dataframe thead th {\n",
       "        text-align: right;\n",
       "    }\n",
       "</style>\n",
       "<table border=\"1\" class=\"dataframe\">\n",
       "  <thead>\n",
       "    <tr style=\"text-align: right;\">\n",
       "      <th></th>\n",
       "      <th>entire_room</th>\n",
       "      <th>private_shared</th>\n",
       "      <th>business</th>\n",
       "      <th>latitude</th>\n",
       "      <th>longitude</th>\n",
       "      <th>accommodates</th>\n",
       "      <th>bathrooms</th>\n",
       "      <th>bedrooms</th>\n",
       "      <th>beds</th>\n",
       "      <th>minimum_nights</th>\n",
       "      <th>maximum_nights</th>\n",
       "    </tr>\n",
       "  </thead>\n",
       "  <tbody>\n",
       "    <tr>\n",
       "      <th>count</th>\n",
       "      <td>16106.000000</td>\n",
       "      <td>16106.000000</td>\n",
       "      <td>16106.000000</td>\n",
       "      <td>16106.000000</td>\n",
       "      <td>16106.000000</td>\n",
       "      <td>16106.000000</td>\n",
       "      <td>16106.000000</td>\n",
       "      <td>16106.000000</td>\n",
       "      <td>16106.000000</td>\n",
       "      <td>16106.000000</td>\n",
       "      <td>16106.000000</td>\n",
       "    </tr>\n",
       "    <tr>\n",
       "      <th>mean</th>\n",
       "      <td>0.807774</td>\n",
       "      <td>0.107538</td>\n",
       "      <td>0.898485</td>\n",
       "      <td>0.570184</td>\n",
       "      <td>0.578629</td>\n",
       "      <td>0.493543</td>\n",
       "      <td>0.413523</td>\n",
       "      <td>0.430771</td>\n",
       "      <td>0.442851</td>\n",
       "      <td>0.088838</td>\n",
       "      <td>0.829372</td>\n",
       "    </tr>\n",
       "    <tr>\n",
       "      <th>std</th>\n",
       "      <td>0.589511</td>\n",
       "      <td>0.313194</td>\n",
       "      <td>0.687089</td>\n",
       "      <td>0.265309</td>\n",
       "      <td>0.215600</td>\n",
       "      <td>0.202579</td>\n",
       "      <td>0.197371</td>\n",
       "      <td>0.287487</td>\n",
       "      <td>0.218657</td>\n",
       "      <td>0.088290</td>\n",
       "      <td>0.358764</td>\n",
       "    </tr>\n",
       "    <tr>\n",
       "      <th>min</th>\n",
       "      <td>-1.000000</td>\n",
       "      <td>-1.000000</td>\n",
       "      <td>-3.000000</td>\n",
       "      <td>0.000000</td>\n",
       "      <td>0.000000</td>\n",
       "      <td>0.000000</td>\n",
       "      <td>0.000000</td>\n",
       "      <td>0.000000</td>\n",
       "      <td>0.000000</td>\n",
       "      <td>0.000000</td>\n",
       "      <td>0.000000</td>\n",
       "    </tr>\n",
       "    <tr>\n",
       "      <th>25%</th>\n",
       "      <td>1.000000</td>\n",
       "      <td>0.000000</td>\n",
       "      <td>1.000000</td>\n",
       "      <td>0.391447</td>\n",
       "      <td>0.434596</td>\n",
       "      <td>0.363636</td>\n",
       "      <td>0.200000</td>\n",
       "      <td>0.250000</td>\n",
       "      <td>0.333333</td>\n",
       "      <td>0.000000</td>\n",
       "      <td>1.000000</td>\n",
       "    </tr>\n",
       "    <tr>\n",
       "      <th>50%</th>\n",
       "      <td>1.000000</td>\n",
       "      <td>0.000000</td>\n",
       "      <td>1.000000</td>\n",
       "      <td>0.600345</td>\n",
       "      <td>0.624085</td>\n",
       "      <td>0.545455</td>\n",
       "      <td>0.400000</td>\n",
       "      <td>0.500000</td>\n",
       "      <td>0.444444</td>\n",
       "      <td>0.071429</td>\n",
       "      <td>1.000000</td>\n",
       "    </tr>\n",
       "    <tr>\n",
       "      <th>75%</th>\n",
       "      <td>1.000000</td>\n",
       "      <td>0.000000</td>\n",
       "      <td>1.000000</td>\n",
       "      <td>0.796204</td>\n",
       "      <td>0.708785</td>\n",
       "      <td>0.636364</td>\n",
       "      <td>0.600000</td>\n",
       "      <td>0.750000</td>\n",
       "      <td>0.555556</td>\n",
       "      <td>0.142857</td>\n",
       "      <td>1.000000</td>\n",
       "    </tr>\n",
       "    <tr>\n",
       "      <th>max</th>\n",
       "      <td>1.000000</td>\n",
       "      <td>1.000000</td>\n",
       "      <td>3.000000</td>\n",
       "      <td>1.000000</td>\n",
       "      <td>1.000000</td>\n",
       "      <td>1.000000</td>\n",
       "      <td>1.000000</td>\n",
       "      <td>1.000000</td>\n",
       "      <td>1.000000</td>\n",
       "      <td>1.000000</td>\n",
       "      <td>1.000000</td>\n",
       "    </tr>\n",
       "  </tbody>\n",
       "</table>\n",
       "</div>"
      ],
      "text/plain": [
       "        entire_room  private_shared      business      latitude     longitude  \\\n",
       "count  16106.000000    16106.000000  16106.000000  16106.000000  16106.000000   \n",
       "mean       0.807774        0.107538      0.898485      0.570184      0.578629   \n",
       "std        0.589511        0.313194      0.687089      0.265309      0.215600   \n",
       "min       -1.000000       -1.000000     -3.000000      0.000000      0.000000   \n",
       "25%        1.000000        0.000000      1.000000      0.391447      0.434596   \n",
       "50%        1.000000        0.000000      1.000000      0.600345      0.624085   \n",
       "75%        1.000000        0.000000      1.000000      0.796204      0.708785   \n",
       "max        1.000000        1.000000      3.000000      1.000000      1.000000   \n",
       "\n",
       "       accommodates     bathrooms      bedrooms          beds  minimum_nights  \\\n",
       "count  16106.000000  16106.000000  16106.000000  16106.000000    16106.000000   \n",
       "mean       0.493543      0.413523      0.430771      0.442851        0.088838   \n",
       "std        0.202579      0.197371      0.287487      0.218657        0.088290   \n",
       "min        0.000000      0.000000      0.000000      0.000000        0.000000   \n",
       "25%        0.363636      0.200000      0.250000      0.333333        0.000000   \n",
       "50%        0.545455      0.400000      0.500000      0.444444        0.071429   \n",
       "75%        0.636364      0.600000      0.750000      0.555556        0.142857   \n",
       "max        1.000000      1.000000      1.000000      1.000000        1.000000   \n",
       "\n",
       "       maximum_nights  \n",
       "count    16106.000000  \n",
       "mean         0.829372  \n",
       "std          0.358764  \n",
       "min          0.000000  \n",
       "25%          1.000000  \n",
       "50%          1.000000  \n",
       "75%          1.000000  \n",
       "max          1.000000  "
      ]
     },
     "execution_count": 50,
     "metadata": {},
     "output_type": "execute_result"
    }
   ],
   "source": [
    "adj_df = pd.concat([prop_type, numericals, price], axis = 1)\n",
    "adj_df.describe()"
   ]
  },
  {
   "cell_type": "code",
   "execution_count": 51,
   "metadata": {},
   "outputs": [],
   "source": [
    "adj_df = adj_df.dropna()\n",
    "price = adj_df.pop('price')"
   ]
  },
  {
   "cell_type": "markdown",
   "metadata": {},
   "source": [
    "## Visualizamos de nuevo igual que en 2.7."
   ]
  },
  {
   "cell_type": "code",
   "execution_count": 52,
   "metadata": {},
   "outputs": [],
   "source": [
    "cols = adj_df.columns\n",
    "cols = cols.drop(['bathrooms', 'bedrooms'])"
   ]
  },
  {
   "cell_type": "code",
   "execution_count": 53,
   "metadata": {},
   "outputs": [
    {
     "data": {
      "image/png": "[encoded data removed]",
      "text/plain": [
       "<Figure size 1440x1440 with 9 Axes>"
      ]
     },
     "metadata": {
      "needs_background": "light"
     },
     "output_type": "display_data"
    }
   ],
   "source": [
    "fig, axs = plt.subplots(3,3, figsize=(20,20))\n",
    "y = np.array(price)\n",
    "for i in range(3):\n",
    "    for j in range(3):\n",
    "        x = np.array(adj_df[ cols[i*3 + j] ])\n",
    "        axs[i,j].scatter(x, y)\n",
    "        axs[i,j].set_title(cols[3*i + j])"
   ]
  },
  {
   "cell_type": "markdown",
   "metadata": {},
   "source": [
    "### Realizamos un PCA de nuevo:"
   ]
  },
  {
   "cell_type": "code",
   "execution_count": 54,
   "metadata": {},
   "outputs": [],
   "source": [
    "pca_2 = PCA(n_components = 2)\n",
    "pca_data = pca_2.fit_transform(adj_df);"
   ]
  },
  {
   "cell_type": "code",
   "execution_count": 55,
   "metadata": {},
   "outputs": [],
   "source": [
    "pca_data_df = pd.DataFrame(pca_data, columns=['first_comp', 'second_comp'])\n",
    "pca_data_df = pd.concat([pca_data_df, price], axis = 1)\n",
    "pca_data_df = pca_data_df.dropna()"
   ]
  },
  {
   "cell_type": "markdown",
   "metadata": {},
   "source": [
    "## 6.3. Renovamos los modelos:"
   ]
  },
  {
   "cell_type": "markdown",
   "metadata": {},
   "source": [
    "### Nuevo split train-test:"
   ]
  },
  {
   "cell_type": "code",
   "execution_count": 56,
   "metadata": {},
   "outputs": [],
   "source": [
    "test_size = 0.2\n",
    "X_train, X_test, y_train, y_test = train_test_split(adj_df, price, test_size=test_size, random_state=42)\n",
    "X_train_pca, X_test_pca, y_train_pca, y_test_pca = train_test_split(pca_data_df[['first_comp', 'second_comp']], pca_data_df[['price']], test_size=test_size, random_state=42)"
   ]
  },
  {
   "cell_type": "markdown",
   "metadata": {},
   "source": [
    "### \"Refit\" a los modelos:"
   ]
  },
  {
   "cell_type": "code",
   "execution_count": 57,
   "metadata": {},
   "outputs": [
    {
     "data": {
      "text/plain": [
       "LinearRegression()"
      ]
     },
     "execution_count": 57,
     "metadata": {},
     "output_type": "execute_result"
    }
   ],
   "source": [
    "base_model.fit(X_train, y_train)\n",
    "pca_linear_reg.fit(X_train_pca, y_train_pca)"
   ]
  },
  {
   "cell_type": "code",
   "execution_count": 58,
   "metadata": {},
   "outputs": [
    {
     "name": "stdout",
     "output_type": "stream",
     "text": [
      "Media del error absoluto medio (base, train): 93.39510293807881 +- 2.0822789345528747\n"
     ]
    }
   ],
   "source": [
    "scores_base = -cross_val_score(estimator=base_model, X=X_train, y=y_train, cv=5, scoring=mae_scorer)\n",
    "\n",
    "print(f\"Media del error absoluto medio (base, train): {scores_base.mean()} +- {scores_base.std()}\")"
   ]
  },
  {
   "cell_type": "code",
   "execution_count": 59,
   "metadata": {},
   "outputs": [
    {
     "name": "stdout",
     "output_type": "stream",
     "text": [
      "Media del error absoluto medio (PCA, train): 98.85963482592062 +- 2.3081591487675577\n"
     ]
    }
   ],
   "source": [
    "scores_pca = -cross_val_score(estimator=pca_linear_reg, X=X_train_pca, y=y_train_pca, cv=5, scoring=mae_scorer)\n",
    "print(f\"Media del error absoluto medio (PCA, train): {scores_pca.mean()} +- {scores_pca.std()}\")"
   ]
  },
  {
   "cell_type": "code",
   "execution_count": 60,
   "metadata": {},
   "outputs": [
    {
     "name": "stdout",
     "output_type": "stream",
     "text": [
      "Error absoluto medio (base, test): 93.29702845940336 \n",
      "Error absoluto medio (PCA, test): 96.39523840769779\n"
     ]
    }
   ],
   "source": [
    "mae_base = MAE(y_test, base_model.predict(X_test))\n",
    "mae_pca =  MAE(y_test_pca, pca_linear_reg.predict(X_test_pca))\n",
    "print(f\"Error absoluto medio (base, test): {mae_base} \\nError absoluto medio (PCA, test): {mae_pca}\")"
   ]
  },
  {
   "cell_type": "markdown",
   "metadata": {},
   "source": [
    "## 6.4. Comentario a las modificaciones."
   ]
  },
  {
   "cell_type": "markdown",
   "metadata": {},
   "source": [
    "---\n",
    "> #### El arreglo de los datos eliminando outliers mejora la respuesta ligeramente del modelo que emplea los datos con las dimensiones reducidas. La estimación no acaba de modelar bien la posible tendencia en el data frame.\n",
    "---"
   ]
  },
  {
   "cell_type": "markdown",
   "metadata": {},
   "source": [
    "# 7. Conclusiones de la práctica."
   ]
  },
  {
   "cell_type": "markdown",
   "metadata": {},
   "source": [
    "#### Sobre el conjunto de datos:\n",
    "\n",
    "1. El tratamiento de los datos es fundamental:\n",
    "    Los dataframes reales no ofrecen una estructura ordenada o columnas exentas de valores atípicos. Además, los _dataframes_ en crudo no tienen filtradas las características no relevantes o poco útiles.\n",
    "\n",
    "2. Eliminar outliers favorece la predicción del modelo en tanto que una regresión lineal es poco flexible para modelar la varianza en los datos.\n",
    "\n",
    "3. El conjunto de datos que se ha empleado tiene un alto número de muestras de muy alta varanza entre sí, aunque la variable _target_ no sea clasificable si no se le crearan unas categorías o etiquetas en función de su precio.\n",
    "\n",
    "4. Los valores del precio, y más teniendo en cuenta que son alquileres son bastante variables por diversas razones. En primer lugar, la diferencia entre alquiler turístico, alquileres de lujo y alquileres para viviendas de familias/trabajadores/estudiantes. Luego las diferencias entre aquellos turísticos que con una baja calidad de la vivienda piden un precio muy alto, enfocado al turismo estacional, en contraste con grandes equipamientos en casas para turistas no tan estacionales. El mercado del alquiler de la vivienda de alquiler es voluble y aún más variable en el sector al que se dedica AirBnB.\n",
    "\n",
    "#### Rendimiento del modelo:\n",
    "\n",
    "1. Los _scores_ obtenidos son algo pobres para lo que sería deseable para poner en un modelo a nivel de producción. Seguramente sería un indicador para descartar la propuesta."
   ]
  }
 ],
 "metadata": {
  "kernelspec": {
   "display_name": "Python 3",
   "language": "python",
   "name": "python3"
  },
  "language_info": {
   "codemirror_mode": {
    "name": "ipython",
    "version": 3
   },
   "file_extension": ".py",
   "mimetype": "text/x-python",
   "name": "python",
   "nbconvert_exporter": "python",
   "pygments_lexer": "ipython3",
   "version": "3.8.3"
  }
 },
 "nbformat": 4,
 "nbformat_minor": 4
}
